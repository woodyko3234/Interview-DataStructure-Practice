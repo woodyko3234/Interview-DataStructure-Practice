{
 "cells": [
  {
   "cell_type": "markdown",
   "metadata": {},
   "source": [
    "<img src=\"interview_q_0828_1.jpg\" alt=\"Drawing\" style=\"width: 600px;\"/>\n",
    "<img src=\"interview_q_0828_2.jpg\" alt=\"Drawing\" style=\"width: 600px;\"/>\n",
    "<img src=\"interview_q_0828_3.jpg\" alt=\"Drawing\" style=\"width: 600px;\"/>\n",
    "<img src=\"interview_q_0828_4.jpg\" alt=\"Drawing\" style=\"width: 600px;\"/>"
   ]
  },
  {
   "cell_type": "code",
   "execution_count": 1,
   "metadata": {
    "collapsed": true
   },
   "outputs": [],
   "source": [
    "import numpy as np\n",
    "# define rectangle func (return 4 points)\n",
    "def rectangle_point(K, L, M, N):\n",
    "    '''return 4 points which forms a rectangle\n",
    "    also check if K<M and L<N'''\n",
    "    km = sorted([K,M])\n",
    "    ln = sorted([L,N])\n",
    "    return np.array([[km[0],ln[1]], [km[0],ln[0]], [km[1],ln[0]], [km[1],ln[1]]], dtype = int)\n",
    "    #array([[K,N],[K,L],[M,L],[M,N]])\n"
   ]
  },
  {
   "cell_type": "code",
   "execution_count": 2,
   "metadata": {
    "collapsed": true
   },
   "outputs": [],
   "source": [
    "# define rectangle area computation\n",
    "def rectangle_area(array):\n",
    "    width = array[0][1] - array[1][1]\n",
    "    height = array[2][0] - array[1][0]\n",
    "    return width * height"
   ]
  },
  {
   "cell_type": "code",
   "execution_count": 3,
   "metadata": {},
   "outputs": [
    {
     "data": {
      "text/plain": [
       "array([[1, 4],\n",
       "       [1, 2],\n",
       "       [3, 2],\n",
       "       [3, 4]])"
      ]
     },
     "execution_count": 3,
     "metadata": {},
     "output_type": "execute_result"
    }
   ],
   "source": [
    "rectangle_point(3, 4, 1, 2)"
   ]
  },
  {
   "cell_type": "code",
   "execution_count": 4,
   "metadata": {},
   "outputs": [
    {
     "data": {
      "text/plain": [
       "4"
      ]
     },
     "execution_count": 4,
     "metadata": {},
     "output_type": "execute_result"
    }
   ],
   "source": [
    "rectangle_area(rectangle_point(3, 4, 1, 2))"
   ]
  },
  {
   "cell_type": "code",
   "execution_count": 5,
   "metadata": {
    "collapsed": true
   },
   "outputs": [],
   "source": [
    "# define duplicate area checking function\n",
    "def reverse_area(K,L,M,N,P,Q,R,S):\n",
    "    rectangle1 = rectangle_point(K, L, M, N)\n",
    "    rectangle2 = rectangle_point(P, Q, R, S)\n",
    "    if K in range(P,R+1) and N in range(Q,S+1):\n",
    "        if M in range(P,R+1) and L in range(Q,S+1):\n",
    "            reverse_area = -rectangle_area(rectangle1)\n",
    "        elif M in range(P, R+1) and L < Q:\n",
    "            reverse_area = -((M-K)*(N-Q))\n",
    "        elif M > R and L in range(Q,S+1):\n",
    "            reverse_area = -((R-K)*(N-L))\n",
    "        else:\n",
    "            reverse_area = -((R-K)*(N-Q))\n",
    "    elif P in range(K,M+1) and S in range(L,N+1):\n",
    "        if R in range(K,M+1) and Q in range(L,N+1):\n",
    "            reverse_area = -rectangle_area(rectangle2)\n",
    "        elif R in range(K, M+1) and Q < L:\n",
    "            reverse_area = -((R-P)*(S-L))\n",
    "        elif R > M and Q in range(L,N+1):\n",
    "            reverse_area = -((M-P)*(S-Q))\n",
    "        else:\n",
    "            reverse_area = -((M-P)*(S-L))\n",
    "    elif M in range(P,R+1) and L in range(Q,S+1):\n",
    "        if K in range(P,R+1) and N in range(Q,S+1):\n",
    "            reverse_area = -rectangle_area(rectangle1)\n",
    "        elif K in range(P, R+1) and N > S:\n",
    "            reverse_area = -((M-K)*(S-L))\n",
    "        elif K < P and L in range(Q,S+1):\n",
    "            reverse_area = -((M-P)*(N-L))\n",
    "        else:\n",
    "            reverse_area = -((M-P)*(S-L))\n",
    "    elif R in range(K,M+1) and Q in range(L,N+1):\n",
    "        if P in range(K,M+1) and S in range(L,N+1):\n",
    "            reverse_area = -rectangle_area(rectangle2)\n",
    "        elif P in range(K, M+1) and S > N:\n",
    "            reverse_area = -((R-P)*(N-Q))\n",
    "        elif P < K and S in range(L,N+1):\n",
    "            reverse_area = -((R-K)*(S-Q))\n",
    "        else:\n",
    "            reverse_area = -((R-K)*(N-Q))\n",
    "    else:\n",
    "        reverse_area = 0\n",
    "    return reverse_area"
   ]
  },
  {
   "cell_type": "code",
   "execution_count": 6,
   "metadata": {
    "collapsed": true
   },
   "outputs": [],
   "source": [
    "#def solution\n",
    "def solution(K,L,M,N,P,Q,R,S):\n",
    "    '''K to S should be all intergers\n",
    "    within the range [-2,147,483,648, 2,147,483,648] or return -1\n",
    "    and K<M, L<N, P<R, Q<S'''\n",
    "    # set return method first\n",
    "    checkbox = [K,L,M,N,P,Q,R,S]\n",
    "    for i in checkbox:\n",
    "        if i > 2147483648 or i < -2147483648 or i - int(i) != 0:\n",
    "            return -1\n",
    "    if K>=M or L>=N or P>=R or Q>=S: return -1\n",
    "    rectangle1 = rectangle_point(K, L, M, N)\n",
    "    rectangle2 = rectangle_point(P, Q, R, S)\n",
    "    # if the upper left point of any rectangle locate in the area of the other\n",
    "    # then the duplicate area should be computed only once\n",
    "    neg_area = reverse_area(K,L,M,N,P,Q,R,S)\n",
    "    return -1 if (rectangle_area(rectangle1) + rectangle_area(rectangle2) \n",
    "                  + neg_area) > 2147748648 else (rectangle_area(rectangle1) + rectangle_area(rectangle2) \n",
    "                  + neg_area)\n",
    "    "
   ]
  },
  {
   "cell_type": "code",
   "execution_count": 7,
   "metadata": {},
   "outputs": [
    {
     "data": {
      "text/plain": [
       "353000"
      ]
     },
     "execution_count": 7,
     "metadata": {},
     "output_type": "execute_result"
    }
   ],
   "source": [
    "solution(100, 200, 500, 800, 10, 300, 350, 1000)"
   ]
  },
  {
   "cell_type": "code",
   "execution_count": 20,
   "metadata": {},
   "outputs": [
    {
     "data": {
      "image/png": "[encoded data removed]",
      "text/plain": [
       "<matplotlib.figure.Figure at 0x11017f048>"
      ]
     },
     "metadata": {},
     "output_type": "display_data"
    }
   ],
   "source": [
    "import matplotlib.pyplot as plt\n",
    "f, axarr = plt.subplots(2, 2)\n",
    "axarr[0, 0].scatter(x = rectangle_point(100, 100, 500, 800)[:,0], \n",
    "                    y = rectangle_point(100, 100, 500, 800)[:,1], color = 'b')\n",
    "axarr[0, 0].scatter(x = rectangle_point(10, 300, 350, 1000)[:,0], \n",
    "                    y = rectangle_point(10, 300, 350, 1000)[:,1], color = 'r')\n",
    "axarr[0, 0].set_title('Axis [0,0]')\n",
    "axarr[0, 1].scatter(x = rectangle_point(100, 400, 500, 800)[:,0], \n",
    "                    y = rectangle_point(100, 400, 500, 800)[:,1], color = 'b')\n",
    "axarr[0, 1].scatter(x = rectangle_point(10, 300, 350, 1000)[:,0], \n",
    "                    y = rectangle_point(10, 300, 350, 1000)[:,1], color = 'r')\n",
    "axarr[0, 1].set_title('Axis [0,1]')\n",
    "axarr[1, 0].scatter(x = rectangle_point(100, 100, 300, 800)[:,0], \n",
    "                    y = rectangle_point(100, 100, 300, 800)[:,1], color = 'b')\n",
    "axarr[1, 0].scatter(x = rectangle_point(10, 300, 350, 1000)[:,0], \n",
    "                    y = rectangle_point(10, 300, 350, 1000)[:,1], color = 'r')\n",
    "axarr[1, 0].set_title('Axis [1,0]')\n",
    "axarr[1, 1].scatter(x = rectangle_point(100, 400, 300, 800)[:,0], \n",
    "                    y = rectangle_point(100, 400, 300, 800)[:,1], color = 'b')\n",
    "axarr[1, 1].scatter(x = rectangle_point(10, 300, 350, 1000)[:,0], \n",
    "                    y = rectangle_point(10, 300, 350, 1000)[:,1], color = 'r')\n",
    "axarr[1, 1].set_title('Axis [1,1]')\n",
    "plt.show()"
   ]
  },
  {
   "cell_type": "code",
   "execution_count": 22,
   "metadata": {
    "collapsed": true
   },
   "outputs": [],
   "source": [
    "# Question2\n",
    "import random\n",
    "random.seed(100)"
   ]
  },
  {
   "cell_type": "code",
   "execution_count": 64,
   "metadata": {},
   "outputs": [
    {
     "data": {
      "text/plain": [
       "defaultdict(int,\n",
       "            {0: 10,\n",
       "             1: 9,\n",
       "             2: -7,\n",
       "             3: -5,\n",
       "             4: 4,\n",
       "             5: 10,\n",
       "             6: 10,\n",
       "             7: 9,\n",
       "             8: 3,\n",
       "             9: 0,\n",
       "             10: 8})"
      ]
     },
     "execution_count": 64,
     "metadata": {},
     "output_type": "execute_result"
    }
   ],
   "source": [
    "from collections import defaultdict\n",
    "A = defaultdict(int)\n",
    "for i in range(random.randint(1, 40000)):\n",
    "    A[i] = random.randint(-2147483648, 2147483648)"
   ]
  },
  {
   "cell_type": "code",
   "execution_count": 69,
   "metadata": {
    "collapsed": true
   },
   "outputs": [],
   "source": [
    "def solution(K, A):\n",
    "    KminusA = defaultdict(list)\n",
    "    A_match = defaultdict(list)\n",
    "    match_list = []\n",
    "    for num, value in A.items():\n",
    "        # A is a dict {1: 100, 2: -890, 3: 100, 4: 0, ......}\n",
    "        # Assume K = 100\n",
    "        KminusA[K - value].append(num) \n",
    "        # KminusA: {0: [1, 3], -990: [2], 100: [4], ......}\n",
    "    print(KminusA)\n",
    "    for num, value in A.items():\n",
    "        if value in KminusA.keys():\n",
    "            # if value in KminusA.keys() => K - A[num1] - A[num2] = 0\n",
    "            A_match[num] = KminusA[value]\n",
    "            # A_match: {1: [4], 2: [], 3: [4], 4: [1, 3], ......}\n",
    "    print(A_match)\n",
    "    for key, values in A_match.items():\n",
    "        for item in values:\n",
    "            match_list.append((key, item))\n",
    "    return len(match_list)"
   ]
  },
  {
   "cell_type": "code",
   "execution_count": 70,
   "metadata": {},
   "outputs": [
    {
     "name": "stdout",
     "output_type": "stream",
     "text": [
      "defaultdict(<class 'list'>, {8: [2], 1: [9], 6: [3], -9: [0, 5, 6], -8: [1, 7], -7: [10], -3: [4], -2: [8]})\n",
      "defaultdict(<class 'list'>, {2: [10], 10: [2]})\n"
     ]
    },
    {
     "data": {
      "text/plain": [
       "2"
      ]
     },
     "execution_count": 70,
     "metadata": {},
     "output_type": "execute_result"
    }
   ],
   "source": [
    "solution(1, A)"
   ]
  },
  {
   "cell_type": "code",
   "execution_count": null,
   "metadata": {
    "collapsed": true
   },
   "outputs": [],
   "source": []
  }
 ],
 "metadata": {
  "kernelspec": {
   "display_name": "Python [default]",
   "language": "python",
   "name": "python3"
  },
  "language_info": {
   "codemirror_mode": {
    "name": "ipython",
    "version": 3
   },
   "file_extension": ".py",
   "mimetype": "text/x-python",
   "name": "python",
   "nbconvert_exporter": "python",
   "pygments_lexer": "ipython3",
   "version": "3.5.3"
  }
 },
 "nbformat": 4,
 "nbformat_minor": 2
}
