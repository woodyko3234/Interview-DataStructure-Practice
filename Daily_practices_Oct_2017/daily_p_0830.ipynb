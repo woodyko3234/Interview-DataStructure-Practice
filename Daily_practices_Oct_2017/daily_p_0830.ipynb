{
 "cells": [
  {
   "cell_type": "code",
   "execution_count": 37,
   "metadata": {},
   "outputs": [],
   "source": [
    "# Source: https://www.interviewcake.com/python-interview-questions\n",
    "daily_balances = [107.92, 108.67, 109.86, 110.15]\n",
    "\n",
    "def show_balances(daily_balances):\n",
    "    '''\n",
    "    Define a function that prints pairs of adjacent balances for the last 3 days \n",
    "    slice starting 3 days ago: [108.67, 109.86]\n",
    "    slice starting 2 days ago: [109.86, 110.15]\n",
    "    '''\n",
    "    num_day = len(daily_balances)\n",
    "    # do not include -1 because that slice will only have 1 balance, yesterday\n",
    "    for day in range(num_day-3, num_day-1):\n",
    "        balance_slice = daily_balances[day : day+2]\n",
    "        \n",
    "        days_ago = num_day - day\n",
    "        # use positive number for printing\n",
    "        print(\"slice starting %d days ago: %s\" % (abs(days_ago), balance_slice))\n"
   ]
  },
  {
   "cell_type": "code",
   "execution_count": 38,
   "metadata": {},
   "outputs": [
    {
     "name": "stdout",
     "output_type": "stream",
     "text": [
      "slice starting 3 days ago: [108.67, 109.86]\n",
      "slice starting 2 days ago: [109.86, 110.15]\n"
     ]
    }
   ],
   "source": [
    "show_balances(daily_balances)"
   ]
  },
  {
   "cell_type": "code",
   "execution_count": 39,
   "metadata": {
    "scrolled": false
   },
   "outputs": [
    {
     "ename": "NameError",
     "evalue": "name 'SOME_LARGE_FILE' is not defined",
     "output_type": "error",
     "traceback": [
      "\u001b[0;31m---------------------------------------------------------------------------\u001b[0m",
      "\u001b[0;31mNameError\u001b[0m                                 Traceback (most recent call last)",
      "\u001b[0;32m<ipython-input-39-f93bbd65fa6b>\u001b[0m in \u001b[0;36m<module>\u001b[0;34m()\u001b[0m\n\u001b[1;32m      2\u001b[0m \u001b[0;31m#Your code should work even if the file is too big to fit in memory.\u001b[0m\u001b[0;34m\u001b[0m\u001b[0;34m\u001b[0m\u001b[0m\n\u001b[1;32m      3\u001b[0m \u001b[0;34m\u001b[0m\u001b[0m\n\u001b[0;32m----> 4\u001b[0;31m \u001b[0;32mwith\u001b[0m \u001b[0mopen\u001b[0m\u001b[0;34m(\u001b[0m\u001b[0mSOME_LARGE_FILE\u001b[0m\u001b[0;34m)\u001b[0m \u001b[0;32mas\u001b[0m \u001b[0mfh\u001b[0m\u001b[0;34m:\u001b[0m\u001b[0;34m\u001b[0m\u001b[0m\n\u001b[0m\u001b[1;32m      5\u001b[0m     \u001b[0;31m#count = sum(1 if character.isupper() else 0 for line in fh for character in line)\u001b[0m\u001b[0;34m\u001b[0m\u001b[0;34m\u001b[0m\u001b[0m\n\u001b[1;32m      6\u001b[0m     \u001b[0mcount\u001b[0m \u001b[0;34m=\u001b[0m \u001b[0msum\u001b[0m\u001b[0;34m(\u001b[0m\u001b[0mcharacter\u001b[0m\u001b[0;34m.\u001b[0m\u001b[0misupper\u001b[0m\u001b[0;34m(\u001b[0m\u001b[0;34m)\u001b[0m \u001b[0;32mfor\u001b[0m \u001b[0mline\u001b[0m \u001b[0;32min\u001b[0m \u001b[0mfh\u001b[0m \u001b[0;32mfor\u001b[0m \u001b[0mcharacter\u001b[0m \u001b[0;32min\u001b[0m \u001b[0mline\u001b[0m\u001b[0;34m)\u001b[0m\u001b[0;34m\u001b[0m\u001b[0m\n",
      "\u001b[0;31mNameError\u001b[0m: name 'SOME_LARGE_FILE' is not defined"
     ]
    }
   ],
   "source": [
    "#Write a one-liner that will count the number of capital letters in a file. \n",
    "#Your code should work even if the file is too big to fit in memory.\n",
    "\n",
    "with open(SOME_LARGE_FILE) as fh:\n",
    "    #count = sum(1 if character.isupper() else 0 for line in fh for character in line)\n",
    "    count = sum(character.isupper() for line in fh for character in line)"
   ]
  },
  {
   "cell_type": "code",
   "execution_count": 52,
   "metadata": {
    "collapsed": true
   },
   "outputs": [],
   "source": [
    "class Pet(object):\n",
    "    num_pets = 0\n",
    "\n",
    "    def __init__(self, name):\n",
    "        self.name = name\n",
    "        Pet.num_pets += 1\n",
    "    def speak(self):\n",
    "        print(\"My name's %s and the number of pets is %d\" % (self.name, self.num_pets))\n",
    "    "
   ]
  },
  {
   "cell_type": "code",
   "execution_count": 53,
   "metadata": {},
   "outputs": [],
   "source": [
    "rover = Pet(\"rover\")\n",
    "spot = Pet(\"spot\")"
   ]
  },
  {
   "cell_type": "code",
   "execution_count": 54,
   "metadata": {},
   "outputs": [
    {
     "name": "stdout",
     "output_type": "stream",
     "text": [
      "My name's rover and the number of pets is 2\n",
      "My name's spot and the number of pets is 2\n"
     ]
    }
   ],
   "source": [
    "rover.speak()\n",
    "spot.speak()"
   ]
  },
  {
   "cell_type": "code",
   "execution_count": 58,
   "metadata": {},
   "outputs": [
    {
     "name": "stdout",
     "output_type": "stream",
     "text": [
      "False\n",
      "True\n"
     ]
    }
   ],
   "source": [
    "#Given some simple variables:\n",
    "big_num_1   = 1000\n",
    "big_num_2   = 1000\n",
    "small_num_1 = 1\n",
    "small_num_2 = 1\n",
    "\n",
    "#What's the output we get from running the following?\n",
    "\n",
    "print(big_num_1   is big_num_2)\n",
    "print(small_num_1 is small_num_2)"
   ]
  },
  {
   "cell_type": "code",
   "execution_count": 77,
   "metadata": {
    "collapsed": true
   },
   "outputs": [],
   "source": [
    "question_template = {\n",
    "    \"title\": \"default title\",\n",
    "    \"question\": \"default question\",\n",
    "    \"answer\": \"default answer\",\n",
    "    \"hints\": []\n",
    "}\n",
    "#a function to help us populate new questions:\n",
    "\n",
    "import copy\n",
    "\n",
    "def make_new_question(title, question, answer, hints=None):\n",
    "    new_q = copy.deepcopy(question_template)\n",
    "    #deepcopy can keep off the shallow copy like d.copy, A = B\n",
    "    # always require title, question, answer\n",
    "    new_q[\"title\"] = title\n",
    "    new_q[\"question\"] = question\n",
    "    new_q[\"answer\"] = answer\n",
    "\n",
    "    # sometimes there aren't hints, that's fine. Otherwise, add them:\n",
    "    if hints is not None:\n",
    "        new_q[\"hints\"].extend(hints)\n",
    "\n",
    "    return new_q"
   ]
  },
  {
   "cell_type": "code",
   "execution_count": 79,
   "metadata": {},
   "outputs": [
    {
     "data": {
      "text/plain": [
       "{'answer': 'answer1',\n",
       " 'hints': ['q1 hint1', 'q1 hint2'],\n",
       " 'question': 'question1',\n",
       " 'title': 'title1'}"
      ]
     },
     "execution_count": 79,
     "metadata": {},
     "output_type": "execute_result"
    }
   ],
   "source": [
    "question_1 = make_new_question(\"title1\", \"question1\", \"answer1\", [\"q1 hint1\", \"q1 hint2\"])\n",
    "question_2 = make_new_question(\"title2\", \"question2\", \"answer2\")\n",
    "question_3 = make_new_question(\"title3\", \"question3\", \"answer3\", [\"q3 hint1\"])"
   ]
  },
  {
   "cell_type": "code",
   "execution_count": 83,
   "metadata": {
    "collapsed": true
   },
   "outputs": [],
   "source": [
    "# goal:   [[1, 2, 3], [2, 4, 6], [3, 6, 9]]\n",
    "iterator = [i for i in range(1, 4)]\n",
    "matrix = [[x * y for y in iterator] for x in iterator]"
   ]
  },
  {
   "cell_type": "code",
   "execution_count": 84,
   "metadata": {},
   "outputs": [
    {
     "name": "stdout",
     "output_type": "stream",
     "text": [
      "[1, 2, 3] [[1, 2, 3], [2, 4, 6], [3, 6, 9]]\n"
     ]
    }
   ],
   "source": [
    "print(iterator, matrix)"
   ]
  },
  {
   "cell_type": "code",
   "execution_count": 104,
   "metadata": {},
   "outputs": [],
   "source": [
    "def array_diff(a, b):\n",
    "    '''remove a(list) items which is in b'''\n",
    "    for num in b:\n",
    "        while num in a:\n",
    "            a.remove(num)\n",
    "    return a"
   ]
  },
  {
   "cell_type": "code",
   "execution_count": 106,
   "metadata": {},
   "outputs": [
    {
     "data": {
      "text/plain": [
       "[2, 2]"
      ]
     },
     "execution_count": 106,
     "metadata": {},
     "output_type": "execute_result"
    }
   ],
   "source": [
    "array_diff([1,2, 1, 2, 1, 1], [1])"
   ]
  },
  {
   "cell_type": "code",
   "execution_count": 107,
   "metadata": {},
   "outputs": [
    {
     "data": {
      "text/plain": [
       "[2, 2]"
      ]
     },
     "execution_count": 107,
     "metadata": {},
     "output_type": "execute_result"
    }
   ],
   "source": [
    "def array_diff(a, b):\n",
    "    return [x for x in a if x not in b]\n",
    "array_diff([1,2, 1, 2, 1, 1], [1])"
   ]
  },
  {
   "cell_type": "code",
   "execution_count": 186,
   "metadata": {},
   "outputs": [],
   "source": [
    "def longest_consec(strarr, k):\n",
    "    n = len(strarr)\n",
    "    if n == 0 or k > n or k <= 0:\n",
    "        return \"\" \n",
    "    from collections import defaultdict\n",
    "    chara_count = defaultdict(int)\n",
    "    for chara in strarr:\n",
    "        chara_count[chara] = len(chara)\n",
    "    num_list = sorted(chara_count.values(), reverse = True)\n",
    "    #only includes sorted keys\n",
    "    sentence = \"\"\n",
    "    for key, value in chara_count.items():\n",
    "        for i in range(0, k):\n",
    "            if value == num_list[i]:\n",
    "                sentence += key\n",
    "                break\n",
    "    return sentence"
   ]
  },
  {
   "cell_type": "code",
   "execution_count": 187,
   "metadata": {},
   "outputs": [
    {
     "data": {
      "text/plain": [
       "'abigailtheta'"
      ]
     },
     "execution_count": 187,
     "metadata": {},
     "output_type": "execute_result"
    }
   ],
   "source": [
    "longest_consec([\"zone\", \"abigail\", \"theta\", \"form\", \"libe\", \"zas\"], 2)"
   ]
  },
  {
   "cell_type": "code",
   "execution_count": 188,
   "metadata": {},
   "outputs": [
    {
     "data": {
      "text/plain": [
       "'wkppqsztdkmvcuwvereiupccauycnjutlvvweqilsfytihvrzlaodfixoyxvyuyvgpck'"
      ]
     },
     "execution_count": 188,
     "metadata": {},
     "output_type": "execute_result"
    }
   ],
   "source": [
    "longest_consec([\"itvayloxrp\",\"wkppqsztdkmvcuwvereiupccauycnjutlv\",\"vweqilsfytihvrzlaodfixoyxvyuyvgpck\"], 2)"
   ]
  },
  {
   "cell_type": "code",
   "execution_count": 270,
   "metadata": {},
   "outputs": [],
   "source": [
    "#Your task is to sort a given string. Each word in the String will contain a single number. \n",
    "#This number is the position the word should have in the result.\n",
    "#Note: Numbers can be from 1 to 9. So 1 will be the first word (not 0).\n",
    "#If the input String is empty, return an empty String. \n",
    "#The words in the input String will only contain valid consecutive numbers.\n",
    "#For an input: \"is2 Thi1s T4est 3a\" the function should return \"Thi1s is2 3a T4est\"\n",
    "\n",
    "def order(sentence):\n",
    "    import re\n",
    "    word_list = sentence.split()\n",
    "    order_num = []\n",
    "    for word in word_list:\n",
    "        order_num.append(int(re.search('\\d', word).group(0)))\n",
    "    sentence_reorder = [word_list[order_num.index(i+1)] for i in range(0,len(order_num))]  \n",
    "    return \" \".join(sentence_reorder)"
   ]
  },
  {
   "cell_type": "code",
   "execution_count": 271,
   "metadata": {},
   "outputs": [
    {
     "data": {
      "text/plain": [
       "'Thi1s is2 3a T4est'"
      ]
     },
     "execution_count": 271,
     "metadata": {},
     "output_type": "execute_result"
    }
   ],
   "source": [
    "order(\"is2 Thi1s T4est 3a\")"
   ]
  },
  {
   "cell_type": "code",
   "execution_count": 272,
   "metadata": {},
   "outputs": [
    {
     "data": {
      "text/plain": [
       "'Fo1r the2 g3ood 4of th5e pe6ople'"
      ]
     },
     "execution_count": 272,
     "metadata": {},
     "output_type": "execute_result"
    }
   ],
   "source": [
    "order('g3ood 4of the2 pe6ople th5e Fo1r')"
   ]
  },
  {
   "cell_type": "code",
   "execution_count": 286,
   "metadata": {
    "collapsed": true
   },
   "outputs": [],
   "source": [
    "def order(sentence):\n",
    "    return \" \".join(sorted(sentence.split(), key=lambda x: int(\"\".join(filter(str.isdigit, x)))))\n",
    "#filter would return a list and can't be converted to int"
   ]
  },
  {
   "cell_type": "code",
   "execution_count": 287,
   "metadata": {},
   "outputs": [
    {
     "data": {
      "text/plain": [
       "'Fo1r the2 g3ood 4of th5e pe6ople'"
      ]
     },
     "execution_count": 287,
     "metadata": {},
     "output_type": "execute_result"
    }
   ],
   "source": [
    "order('g3ood 4of the2 pe6ople th5e Fo1r')"
   ]
  },
  {
   "cell_type": "code",
   "execution_count": 300,
   "metadata": {},
   "outputs": [],
   "source": [
    "#In this kata you will create a function that takes a list of non-negative integers and strings and \n",
    "#returns a new list with the strings filtered out.\n",
    "\n",
    "def filter_list(l):\n",
    "    'return a new list with the strings filtered out'\n",
    "    new_l = []\n",
    "    for i in l:\n",
    "        try:\n",
    "            i - float('Inf')\n",
    "            new_l.append(i)\n",
    "        except: continue\n",
    "    return new_l"
   ]
  },
  {
   "cell_type": "code",
   "execution_count": 302,
   "metadata": {},
   "outputs": [
    {
     "data": {
      "text/plain": [
       "[1, 2]"
      ]
     },
     "execution_count": 302,
     "metadata": {},
     "output_type": "execute_result"
    }
   ],
   "source": [
    "filter_list([1,2,'a','b', '123'])"
   ]
  },
  {
   "cell_type": "code",
   "execution_count": 303,
   "metadata": {
    "collapsed": true
   },
   "outputs": [],
   "source": [
    "def filter_list(l):\n",
    "  'return a new list with the strings filtered out'\n",
    "  return [i for i in l if not isinstance(i, str)]"
   ]
  },
  {
   "cell_type": "code",
   "execution_count": 304,
   "metadata": {},
   "outputs": [
    {
     "data": {
      "text/plain": [
       "[1, 2]"
      ]
     },
     "execution_count": 304,
     "metadata": {},
     "output_type": "execute_result"
    }
   ],
   "source": [
    "filter_list([1,2,'a','b', '123'])"
   ]
  },
  {
   "cell_type": "code",
   "execution_count": 313,
   "metadata": {},
   "outputs": [],
   "source": [
    "#Jaden Smith, the son of Will Smith, is the star of films such as The Karate Kid (2010) and After Earth (2013). \n",
    "#Jaden is also known for some of his philosophy that he delivers via Twitter. When writing on Twitter, \n",
    "#he is known for almost always capitalizing every word.\n",
    "\n",
    "#Your task is to convert strings to how they would be written by Jaden Smith. \n",
    "#The strings are actual quotes from Jaden Smith, but they are not capitalized in the same way he originally \n",
    "#typed them.\n",
    "\n",
    "#Example:\n",
    "\n",
    "#Not Jaden-Cased: \"How can mirrors be real if our eyes aren't real\"\n",
    "#Jaden-Cased:     \"How Can Mirrors Be Real If Our Eyes Aren't Real\"\n",
    "\n",
    "#str.title() => \"How Can Mirrors Be Real If Our Eyes Aren'T Real\"\n",
    "from string import *\n",
    "def toJadenCase(string):\n",
    "    return capwords(string)"
   ]
  },
  {
   "cell_type": "code",
   "execution_count": 314,
   "metadata": {},
   "outputs": [
    {
     "data": {
      "text/plain": [
       "\"How Can Mirrors Be Real If Our Eyes Aren't Real\""
      ]
     },
     "execution_count": 314,
     "metadata": {},
     "output_type": "execute_result"
    }
   ],
   "source": [
    "toJadenCase(\"How can mirrors be real if our eyes aren't real\")"
   ]
  },
  {
   "cell_type": "code",
   "execution_count": 325,
   "metadata": {},
   "outputs": [],
   "source": [
    "#Your task is to make a function that can take any non-negative integer as a argument and return \n",
    "#it with it's digits in descending order. Essentially, rearrange the digits to create the highest possible number.\n",
    "\n",
    "#Examples:\n",
    "#Input: 21445 Output: 54421\n",
    "#Input: 145263 Output: 654321\n",
    "#Input: 1254859723 Output: 9875543221\n",
    "\n",
    "def Descending_Order(num):\n",
    "    return int(\"\".join(sorted(str(num), reverse = True)))"
   ]
  },
  {
   "cell_type": "code",
   "execution_count": 326,
   "metadata": {},
   "outputs": [
    {
     "data": {
      "text/plain": [
       "9875543221"
      ]
     },
     "execution_count": 326,
     "metadata": {},
     "output_type": "execute_result"
    }
   ],
   "source": [
    "Descending_Order(1254859723)"
   ]
  },
  {
   "cell_type": "code",
   "execution_count": 348,
   "metadata": {
    "collapsed": true
   },
   "outputs": [],
   "source": [
    "#The goal of this exercise is to convert a string to a new string where each character in the new string is \n",
    "#'(' if that character appears only once in the original string, or ')' if that character appears more than \n",
    "#once in the original string. Ignore capitalization when determining if a character is a duplicate.\n",
    "\n",
    "#Examples:\n",
    "#\"din\" => \"(((\"\n",
    "#\"recede\" => \"()()()\"\n",
    "#\"Success\" => \")())())\"\n",
    "#\"(( @\" => \"))((\"\n",
    "from collections import defaultdict\n",
    "def duplicate_encode(word):\n",
    "    word_count = defaultdict(int)\n",
    "    for chara in word:\n",
    "        word_count[chara.lower()] += 1\n",
    "    return ''.join([\")\" if word_count[chara] > 1 else \"(\" for chara in word.lower()])"
   ]
  },
  {
   "cell_type": "code",
   "execution_count": 350,
   "metadata": {},
   "outputs": [
    {
     "data": {
      "text/plain": [
       "')())())'"
      ]
     },
     "execution_count": 350,
     "metadata": {},
     "output_type": "execute_result"
    }
   ],
   "source": [
    "duplicate_encode(\"Success\")"
   ]
  },
  {
   "cell_type": "code",
   "execution_count": null,
   "metadata": {
    "collapsed": true
   },
   "outputs": [],
   "source": []
  }
 ],
 "metadata": {
  "kernelspec": {
   "display_name": "Python [default]",
   "language": "python",
   "name": "python3"
  },
  "language_info": {
   "codemirror_mode": {
    "name": "ipython",
    "version": 3
   },
   "file_extension": ".py",
   "mimetype": "text/x-python",
   "name": "python",
   "nbconvert_exporter": "python",
   "pygments_lexer": "ipython3",
   "version": "3.5.3"
  }
 },
 "nbformat": 4,
 "nbformat_minor": 2
}
