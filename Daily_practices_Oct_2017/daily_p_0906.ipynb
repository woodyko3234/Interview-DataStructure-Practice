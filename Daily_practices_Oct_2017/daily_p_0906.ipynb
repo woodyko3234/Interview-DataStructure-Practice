{
 "cells": [
  {
   "cell_type": "code",
   "execution_count": 1,
   "metadata": {
    "collapsed": true
   },
   "outputs": [],
   "source": [
    "#Given a positive number n > 1 find the prime factor decomposition of n. The result will \n",
    "#be a string with the following form :\n",
    "\n",
    "# \"(p1**n1)(p2**n2)...(pk**nk)\"\n",
    "#with the p(i) in increasing order and n(i) empty if n(i) is 1.\n",
    "\n",
    "#Example: n = 86240 should return \"(2**5)(5)(7**2)(11)\""
   ]
  },
  {
   "cell_type": "code",
   "execution_count": 2,
   "metadata": {
    "collapsed": true
   },
   "outputs": [],
   "source": [
    "from collections import defaultdict\n",
    "from math import sqrt\n",
    "def primeFactors(n): \n",
    "    factors_list = [x for x in range(3, n, 2) if all(x % i for i in range(3, x, 2))]\n",
    "    # two loops run too slow and inefficient\n",
    "    if not n % 2:\n",
    "        factors_list.append(2)\n",
    "    num_degree = defaultdict(int)\n",
    "    for i in factors_list:\n",
    "        j = 1\n",
    "        while n % (i ** j) == 0:\n",
    "            num_degree[i] = j\n",
    "            j += 1\n",
    "    result = \"\"\n",
    "    for key, value in num_degree.items():\n",
    "        if value == 1:\n",
    "            result = result + '(%d)' % key\n",
    "        else:\n",
    "            result = result + '(%d**%d)' % (key, value)\n",
    "    return result"
   ]
  },
  {
   "cell_type": "code",
   "execution_count": 3,
   "metadata": {},
   "outputs": [
    {
     "data": {
      "text/plain": [
       "'(17)(457)'"
      ]
     },
     "execution_count": 3,
     "metadata": {},
     "output_type": "execute_result"
    }
   ],
   "source": [
    "primeFactors(7769)"
   ]
  },
  {
   "cell_type": "code",
   "execution_count": 4,
   "metadata": {
    "collapsed": true
   },
   "outputs": [],
   "source": [
    "from collections import defaultdict\n",
    "from math import sqrt\n",
    "def primeFactors(n):\n",
    "    result = \"\"\n",
    "    num_degree = defaultdict(int)\n",
    "    threshold = n\n",
    "    for i in range(2, n+1):\n",
    "        j = 1\n",
    "        while threshold % i == 0:\n",
    "            num_degree[i] += 1\n",
    "            j += 1\n",
    "            threshold /= i\n",
    "        if threshold < i: break\n",
    "    for key, value in sorted(num_degree.items(), key = lambda t: t[0]):\n",
    "        if value == 1:\n",
    "            result += '(%d)' % key\n",
    "        else:\n",
    "            result += '(%d**%d)' % (key, value)\n",
    "    return result "
   ]
  },
  {
   "cell_type": "code",
   "execution_count": 5,
   "metadata": {},
   "outputs": [
    {
     "data": {
      "text/plain": [
       "'(7)'"
      ]
     },
     "execution_count": 5,
     "metadata": {},
     "output_type": "execute_result"
    }
   ],
   "source": [
    "primeFactors(7)"
   ]
  },
  {
   "cell_type": "code",
   "execution_count": 6,
   "metadata": {
    "collapsed": true
   },
   "outputs": [],
   "source": [
    "def primeFactors(n):\n",
    "    ret = ''\n",
    "    for i in xrange(2, n + 1):\n",
    "        num = 0\n",
    "        while(n % i == 0):\n",
    "            num += 1\n",
    "            n /= i\n",
    "        if num > 0:\n",
    "            ret += '({}{})'.format(i, '**%d' % num if num > 1 else '')\n",
    "        if n == 1:\n",
    "            return ret"
   ]
  },
  {
   "cell_type": "markdown",
   "metadata": {},
   "source": [
    "Polycarpus works as a DJ in the best Berland nightclub, and he often uses dubstep music in his performance. Recently, he has decided to take a couple of old songs and make dubstep remixes from them.\n",
    "\n",
    "Let's assume that a song consists of some number of words. To make the dubstep remix of this song, Polycarpus inserts a certain number of words \"WUB\" before the first word of the song (the number may be zero), after the last word (the number may be zero), and between words (at least one between any pair of neighbouring words), and then the boy glues together all the words, including \"WUB\", in one string and plays the song at the club.\n",
    "\n",
    "For example, a song with words \"I AM X\" can transform into a dubstep remix as \"WUBWUBIWUBAMWUBWUBX\" and cannot transform into \"WUBWUBIAMWUBX\".\n",
    "\n",
    "Recently, Jonny has heard Polycarpus's new dubstep track, but since he isn't into modern music, he decided to find out what was the initial song that Polycarpus remixed. Help Jonny restore the original song.\n",
    "\n",
    "Input\n",
    "\n",
    "The input consists of a single non-empty string, consisting only of uppercase English letters, the string's length doesn't exceed 200 characters\n",
    "\n",
    "Output\n",
    "\n",
    "Return the words of the initial song that Polycarpus used to make a dubsteb remix. Separate the words with a space.\n",
    "\n",
    "Examples"
   ]
  },
  {
   "cell_type": "code",
   "execution_count": 7,
   "metadata": {
    "collapsed": true
   },
   "outputs": [],
   "source": [
    "#song_decoder(\"WUBWEWUBAREWUBWUBTHEWUBCHAMPIONSWUBMYWUBFRIENDWUB\")\n",
    "  # =>  WE ARE THE CHAMPIONS MY FRIEND"
   ]
  },
  {
   "cell_type": "code",
   "execution_count": 8,
   "metadata": {},
   "outputs": [],
   "source": [
    "import re\n",
    "def song_decoder(string):\n",
    "    WUB_pos = [(m.start(0), m.end(0)) for m in re.finditer('WUB', string)]\n",
    "    word = ''\n",
    "    if WUB_pos[0][0] != 0:\n",
    "        word += string[:WUB_pos[0][0]]\n",
    "    for i in range(0, len(WUB_pos)):\n",
    "        if not word:\n",
    "            word += string[WUB_pos[i][1]:WUB_pos[i+1][0]]\n",
    "        elif i == len(WUB_pos) - 1:\n",
    "            word += ' ' + string[WUB_pos[i][1]:]\n",
    "        else:\n",
    "            word += ' ' + string[WUB_pos[i][1]:WUB_pos[i+1][0]]\n",
    "    return word"
   ]
  },
  {
   "cell_type": "code",
   "execution_count": 9,
   "metadata": {},
   "outputs": [
    {
     "data": {
      "text/plain": [
       "'WE ARE  THE CHAMPIONS MY FRIEND '"
      ]
     },
     "execution_count": 9,
     "metadata": {},
     "output_type": "execute_result"
    }
   ],
   "source": [
    "song_decoder(\"WUBWEWUBAREWUBWUBTHEWUBCHAMPIONSWUBMYWUBFRIENDWUB\")"
   ]
  },
  {
   "cell_type": "code",
   "execution_count": 10,
   "metadata": {
    "collapsed": true
   },
   "outputs": [],
   "source": [
    "def song_decoder(string):\n",
    "    split_words = string.replace('WUB', ' ').split()\n",
    "    decoded = ''\n",
    "    for word in split_words:\n",
    "        if word != '':\n",
    "            decoded += ' ' + word\n",
    "    return decoded[1:]"
   ]
  },
  {
   "cell_type": "code",
   "execution_count": 11,
   "metadata": {},
   "outputs": [
    {
     "data": {
      "text/plain": [
       "'WE ARE THE CHAMPIONS MY FRIEND'"
      ]
     },
     "execution_count": 11,
     "metadata": {},
     "output_type": "execute_result"
    }
   ],
   "source": [
    "song_decoder(\"WUBWEWUBAREWUBWUBTHEWUBCHAMPIONSWUBMYWUBFRIENDWUB\")"
   ]
  },
  {
   "cell_type": "code",
   "execution_count": 12,
   "metadata": {
    "collapsed": true
   },
   "outputs": [],
   "source": [
    "def song_decoder(song):\n",
    "    return \" \".join(song.replace('WUB', ' ').split())"
   ]
  },
  {
   "cell_type": "code",
   "execution_count": 13,
   "metadata": {},
   "outputs": [
    {
     "data": {
      "text/plain": [
       "'WE ARE THE CHAMPIONS MY FRIEND'"
      ]
     },
     "execution_count": 13,
     "metadata": {},
     "output_type": "execute_result"
    }
   ],
   "source": [
    "song_decoder(\"WUBWEWUBAREWUBWUBTHEWUBCHAMPIONSWUBMYWUBFRIENDWUB\")"
   ]
  },
  {
   "cell_type": "markdown",
   "metadata": {},
   "source": [
    "A string is considered to be in title case if each word in the string is either (a) capitalised (that is, only the first letter of the word is in upper case) or (b) considered to be an exception and put entirely into lower case unless it is the first word, which is always capitalised.\n",
    "\n",
    "Write a function that will convert a string into title case, given an optional list of exceptions (minor words). The list of minor words will be given as a string with each word separated by a space. Your function should ignore the case of the minor words string -- it should behave in the same way even if the case of the minor word string is changed.\n",
    "\n",
    "###Arguments (Haskell)\n",
    "\n",
    "First argument: space-delimited list of minor words that must always be lowercase except for the first word in the string.\n",
    "Second argument: the original string to be converted.\n",
    "###Arguments (Other languages)\n",
    "\n",
    "First argument (required): the original string to be converted.\n",
    "Second argument (optional): space-delimited list of minor words that must always be lowercase except for the first word in the string. The JavaScript/CoffeeScript tests will pass undefined when this argument is unused.\n",
    "###Example"
   ]
  },
  {
   "cell_type": "code",
   "execution_count": 45,
   "metadata": {},
   "outputs": [],
   "source": [
    "#title_case('a clash of KINGS', 'a an the of') # should return: 'A Clash of Kings'\n",
    "#title_case('THE WIND IN THE WILLOWS', 'The In') # should return: 'The Wind in the Willows'\n",
    "#title_case('the quick brown fox') # should return: 'The Quick Brown Fox'\n",
    "def title_case(title, *minor_words):\n",
    "    title_list = title.title().split()\n",
    "    minor_list = \" \".join(minor_words).lower().split()\n",
    "    for i, word in enumerate(title_list):\n",
    "        if i != 0 and word.lower() in minor_list:\n",
    "            title_list[i] = word.lower()\n",
    "    return ' '.join(title_list)"
   ]
  },
  {
   "cell_type": "code",
   "execution_count": 46,
   "metadata": {},
   "outputs": [
    {
     "data": {
      "text/plain": [
       "'A Clash of Kings'"
      ]
     },
     "execution_count": 46,
     "metadata": {},
     "output_type": "execute_result"
    }
   ],
   "source": [
    "title_case('a clash of KINGS', 'a an the of')"
   ]
  },
  {
   "cell_type": "code",
   "execution_count": 47,
   "metadata": {
    "collapsed": true
   },
   "outputs": [],
   "source": [
    "def title_case(title, minor_words=''):\n",
    "    title = title.capitalize().split()\n",
    "    minor_words = minor_words.lower().split()\n",
    "    return ' '.join([word if word in minor_words else word.capitalize() for word in title])"
   ]
  },
  {
   "cell_type": "code",
   "execution_count": 48,
   "metadata": {},
   "outputs": [
    {
     "data": {
      "text/plain": [
       "'A Clash of Kings'"
      ]
     },
     "execution_count": 48,
     "metadata": {},
     "output_type": "execute_result"
    }
   ],
   "source": [
    "title_case('a clash of KINGS', 'a an the of')"
   ]
  },
  {
   "cell_type": "code",
   "execution_count": null,
   "metadata": {
    "collapsed": true
   },
   "outputs": [],
   "source": []
  }
 ],
 "metadata": {
  "kernelspec": {
   "display_name": "Python [default]",
   "language": "python",
   "name": "python3"
  },
  "language_info": {
   "codemirror_mode": {
    "name": "ipython",
    "version": 3
   },
   "file_extension": ".py",
   "mimetype": "text/x-python",
   "name": "python",
   "nbconvert_exporter": "python",
   "pygments_lexer": "ipython3",
   "version": "3.5.3"
  }
 },
 "nbformat": 4,
 "nbformat_minor": 2
}
