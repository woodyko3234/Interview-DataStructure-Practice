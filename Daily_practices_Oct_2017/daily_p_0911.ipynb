{
 "cells": [
  {
   "cell_type": "markdown",
   "metadata": {},
   "source": [
    "A perfect power is a classification of positive integers:\n",
    "\n",
    "In mathematics, a perfect power is a positive integer that can be expressed as an integer power of another positive integer. More formally, n is a perfect power if there exist natural numbers m > 1, and k > 1 such that mk = n.\n",
    "Your task is to check wheter a given integer is a perfect power. If it is a perfect power, return a pair m and k with mk = n as a proof. Otherwise return Nothing, Nil, null, NULL, None or your language's equivalent.\n",
    "\n",
    "Note: For a perfect power, there might be several pairs. For example 81 = 3^4 = 9^2, so (3,4) and (9,2) are valid solutions. However, the tests take care of this, so if a number is a perfect power, return any pair that proves it.\n",
    "\n",
    "Examples\n",
    "\n",
    "isPP(4) => [2,2]\n",
    "isPP(9) => [3,2]\n",
    "isPP(5) => None"
   ]
  },
  {
   "cell_type": "code",
   "execution_count": 11,
   "metadata": {
    "collapsed": true
   },
   "outputs": [],
   "source": [
    "from math import ceil, log, sqrt\n",
    "\n",
    "def isPP(n):\n",
    "    for b in range(2, int(sqrt(n)) + 1):\n",
    "        e = int(round(log(n, b)))\n",
    "        if b ** e == n:\n",
    "            return [b, e]\n",
    "    return None"
   ]
  },
  {
   "cell_type": "code",
   "execution_count": 12,
   "metadata": {},
   "outputs": [
    {
     "name": "stdout",
     "output_type": "stream",
     "text": [
      "[2, 8]\n"
     ]
    }
   ],
   "source": [
    "print(isPP(256))"
   ]
  },
  {
   "cell_type": "markdown",
   "metadata": {},
   "source": [
    "Given an array (arr) as an argument complete the function countSmileys that should return the total number of smiling faces.\n",
    "\n",
    "Rules for a smiling face:\n",
    "-Each smiley face must contain a valid pair of eyes. Eyes can be marked as : or ;\n",
    "-A smiley face can have a nose but it does not have to. Valid characters for a nose are - or ~\n",
    "-Every smiling face must have a smiling mouth that should be marked with either ) or D.\n",
    "No additional characters are allowed except for those mentioned.\n",
    "Valid smiley face examples:\n",
    ":) :D ;-D :~)\n",
    "Invalid smiley faces:\n",
    ";( :> :} :] \n",
    "\n",
    "Example cases:\n",
    "\n",
    "countSmileys([':)', ';(', ';}', ':-D']);       // should return 2;\n",
    "countSmileys([';D', ':-(', ':-)', ';~)']);     // should return 3;\n",
    "countSmileys([';]', ':[', ';*', ':$', ';-D']); // should return 1;\n",
    "\n",
    "Note: In case of an empty array return 0. You will not be tested with invalid input (input will always be an array)\n",
    "\n",
    "Happy coding!"
   ]
  },
  {
   "cell_type": "code",
   "execution_count": 82,
   "metadata": {},
   "outputs": [],
   "source": [
    "import re\n",
    "def count_smileys(arr):\n",
    "    pattern = re.compile(\"\"\"\n",
    "    ^    #start\n",
    "    [;:] #eyes\n",
    "    [-~]? #nose\n",
    "    [D)] # smile\n",
    "    $    # end\n",
    "    \"\"\", re.VERBOSE)\n",
    "    return sum([len(re.findall(pattern, item)) for item in arr])"
   ]
  },
  {
   "cell_type": "code",
   "execution_count": 83,
   "metadata": {},
   "outputs": [
    {
     "data": {
      "text/plain": [
       "2"
      ]
     },
     "execution_count": 83,
     "metadata": {},
     "output_type": "execute_result"
    }
   ],
   "source": [
    "count_smileys([':)',':(',':D',':O',':;'])"
   ]
  },
  {
   "cell_type": "code",
   "execution_count": null,
   "metadata": {
    "collapsed": true
   },
   "outputs": [],
   "source": []
  }
 ],
 "metadata": {
  "kernelspec": {
   "display_name": "Python [default]",
   "language": "python",
   "name": "python3"
  },
  "language_info": {
   "codemirror_mode": {
    "name": "ipython",
    "version": 3
   },
   "file_extension": ".py",
   "mimetype": "text/x-python",
   "name": "python",
   "nbconvert_exporter": "python",
   "pygments_lexer": "ipython3",
   "version": "3.5.3"
  }
 },
 "nbformat": 4,
 "nbformat_minor": 2
}
