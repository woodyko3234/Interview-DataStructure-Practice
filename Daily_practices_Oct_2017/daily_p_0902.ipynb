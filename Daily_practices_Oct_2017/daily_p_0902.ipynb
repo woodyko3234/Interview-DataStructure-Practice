{
 "cells": [
  {
   "cell_type": "code",
   "execution_count": 1,
   "metadata": {},
   "outputs": [],
   "source": [
    "#You have an array of numbers.\n",
    "#Your task is to sort ascending odd numbers but even numbers must be on their places.\n",
    "\n",
    "#Zero isn't an odd number and you don't need to move it. If you have an empty array, you need to return it.\n",
    "\n",
    "#Example\n",
    "\n",
    "#sortArray([5, 3, 2, 8, 1, 4]) == [1, 3, 2, 8, 5, 4]\n",
    "\n",
    "def sort_array(source_array):\n",
    "    odd_list, even_list = [], []\n",
    "    for i in source_array:\n",
    "        if i % 2 != 0:\n",
    "            odd_list.append(i)\n",
    "        else:\n",
    "            even_list.append(i)\n",
    "    odd_list = sorted(odd_list)\n",
    "    for i in range(0,len(source_array)):\n",
    "        if source_array[i] % 2 == 0:\n",
    "            source_array[i] = even_list.pop(0)\n",
    "        else:\n",
    "            source_array[i] = odd_list.pop(0)\n",
    "    return source_array"
   ]
  },
  {
   "cell_type": "code",
   "execution_count": 2,
   "metadata": {},
   "outputs": [
    {
     "data": {
      "text/plain": [
       "[1, 3, 2, 8, 5, 4]"
      ]
     },
     "execution_count": 2,
     "metadata": {},
     "output_type": "execute_result"
    }
   ],
   "source": [
    "sort_array([5, 3, 2, 8, 1, 4])"
   ]
  },
  {
   "cell_type": "code",
   "execution_count": 3,
   "metadata": {
    "collapsed": true
   },
   "outputs": [],
   "source": [
    "def sort_array(arr):\n",
    "  odds = sorted((x for x in arr if x%2 != 0), reverse=True)\n",
    "  return [x if x%2==0 else odds.pop() for x in arr]"
   ]
  },
  {
   "cell_type": "code",
   "execution_count": 4,
   "metadata": {},
   "outputs": [],
   "source": [
    "#Find the missing letter\n",
    "\n",
    "#Write a method that takes an array of consecutive (increasing) letters as input and that returns \n",
    "#the missing letter in the array.\n",
    "\n",
    "#You will always get an valid array. And it will be always exactly one letter be missing. \n",
    "#The length of the array will always be at least 2.\n",
    "#The array will always contain letters in only one case.\n",
    "\n",
    "#Example:\n",
    "\n",
    "#['a','b','c','d','f'] -> 'e'\n",
    "#['O','Q','R','S'] -> 'P'\n",
    "#(Use the English alphabet with 26 letters!)\n",
    "\n",
    "#Have fun coding it and please don't forget to vote and rank this kata! :-)\n",
    "\n",
    "#I have also created other katas. Take a look if you enjoyed this kata!\n",
    "\n",
    "import re\n",
    "def find_missing_letter(chars):\n",
    "    letters = 'abcdefghijklmnopqrstuvwxyz'\n",
    "    idx = re.search(chars[0], letters, re.IGNORECASE).span()[0]\n",
    "    for char in letters[idx:]:\n",
    "        if re.search(char, ''.join(chars), re.IGNORECASE): continue\n",
    "        else: return char if chars[0].islower() else char.upper()"
   ]
  },
  {
   "cell_type": "code",
   "execution_count": 5,
   "metadata": {},
   "outputs": [
    {
     "data": {
      "text/plain": [
       "'P'"
      ]
     },
     "execution_count": 5,
     "metadata": {},
     "output_type": "execute_result"
    }
   ],
   "source": [
    "find_missing_letter(['O','Q','R','S'] )"
   ]
  },
  {
   "cell_type": "code",
   "execution_count": 6,
   "metadata": {
    "collapsed": true
   },
   "outputs": [],
   "source": [
    "def find_missing_letter(chars):\n",
    "    n = 0\n",
    "    while ord(chars[n]) == ord(chars[n+1]) - 1:\n",
    "        n += 1\n",
    "    return chr(1+ord(chars[n]))\n",
    "\n",
    "#ord: 回傳字元 c 的 Unicode 編碼值\n",
    "#chr: 回傳整數 i 的字串編碼"
   ]
  },
  {
   "cell_type": "code",
   "execution_count": 19,
   "metadata": {
    "collapsed": true
   },
   "outputs": [],
   "source": [
    "#Count the number of Duplicates\n",
    "\n",
    "#Write a function that will return the count of distinct case-insensitive alphabetic characters \n",
    "#and numeric digits that occur more than once in the input string. The input string can be assumed to \n",
    "#contain only alphabets (both uppercase and lowercase) and numeric digits.\n",
    "\n",
    "#Example\n",
    "\n",
    "#\"abcde\" -> 0 # no characters repeats more than once\n",
    "#\"aabbcde\" -> 2 # 'a' and 'b'\n",
    "#\"aabBcde\" -> 2 # 'a' occurs twice and 'b' twice (bandB)\n",
    "#\"indivisibility\" -> 1 # 'i' occurs six times\n",
    "#\"Indivisibilities\" -> 2 # 'i' occurs seven times and 's' occurs twice\n",
    "#\"aA11\" -> 2 # 'a' and '1'\n",
    "#\"ABBA\" -> 2 # 'A' and 'B' each occur twice\n",
    "\n",
    "from collections import defaultdict\n",
    "import re\n",
    "def duplicate_count(text):\n",
    "    text_counter = defaultdict(int)\n",
    "    for char in text:\n",
    "        if re.search(char, text, re.IGNORECASE):\n",
    "        #avoid separating lowercase and uppercase\n",
    "            text_counter[char.lower()] += 1\n",
    "        else:\n",
    "            text_counter[char] += 1\n",
    "    return len(list(filter(lambda t: t >= 2, text_counter.values())))"
   ]
  },
  {
   "cell_type": "code",
   "execution_count": 24,
   "metadata": {},
   "outputs": [
    {
     "data": {
      "text/plain": [
       "2"
      ]
     },
     "execution_count": 24,
     "metadata": {},
     "output_type": "execute_result"
    }
   ],
   "source": [
    "duplicate_count('aabBcde')"
   ]
  },
  {
   "cell_type": "code",
   "execution_count": 25,
   "metadata": {
    "collapsed": true
   },
   "outputs": [],
   "source": [
    "def duplicate_count(s):\n",
    "    return len({s for s in text if text.lower().count(s) > 1})"
   ]
  },
  {
   "cell_type": "code",
   "execution_count": null,
   "metadata": {
    "collapsed": true
   },
   "outputs": [],
   "source": []
  }
 ],
 "metadata": {
  "kernelspec": {
   "display_name": "Python [default]",
   "language": "python",
   "name": "python3"
  },
  "language_info": {
   "codemirror_mode": {
    "name": "ipython",
    "version": 3
   },
   "file_extension": ".py",
   "mimetype": "text/x-python",
   "name": "python",
   "nbconvert_exporter": "python",
   "pygments_lexer": "ipython3",
   "version": "3.5.3"
  }
 },
 "nbformat": 4,
 "nbformat_minor": 2
}
