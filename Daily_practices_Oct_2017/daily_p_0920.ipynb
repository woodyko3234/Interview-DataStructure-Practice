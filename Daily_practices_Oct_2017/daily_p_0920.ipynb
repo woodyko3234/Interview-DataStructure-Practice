{
 "cells": [
  {
   "cell_type": "markdown",
   "metadata": {},
   "source": [
    "A natural number is called k-prime if it has exactly k prime factors, counted with multiplicity.\n",
    "\n",
    "A natural number is thus prime if and only if it is 1-prime.\n",
    "\n",
    "Examples:\n",
    "k = 2 -> 4, 6, 9, 10, 14, 15, 21, 22, …\n",
    "k = 3 -> 8, 12, 18, 20, 27, 28, 30, …\n",
    "k = 5 -> 32, 48, 72, 80, 108, 112, …\n",
    "#Task:\n",
    "\n",
    "Write function count_Kprimes (or countKprimes or count-K-primes or kPrimes in C) which given parameters k, start, end (or nd) returns an array (or a list in C) of the k-primes between start (inclusive) and end (inclusive).\n",
    "#Example:\n",
    "\n",
    "countKprimes(5, 500, 600) --> [500, 520, 552, 567, 588, 592, 594]\n",
    "...............................................................................\n",
    "\n",
    "for all languages except Bash shell\n",
    "Given positive integers s and a, b, c where a is 1-prime, b 3-prime, c 7-prime find the number of solutions of a + b + c = s. Call this function puzzle(s).\n",
    "\n",
    "Examples:\n",
    "\n",
    "puzzle(138) --> 1 ([2 + 8 + 128] is solution)\n",
    "puzzle(143) --> 2 ([3 + 12 + 128, 7 + 8 + 128] are solutions)\n",
    "...............................................................................\n",
    "\n",
    "Notes:\n",
    "\n",
    "The first function would have been better named: findKprimes or kPrimes :-)\n",
    "In C some helper functions are given (see declarations in 'Solution').\n",
    "For Go: nil slice is expected when there are no k-primes between start and end.\n",
    "\n",
    "k = 2 -> 4, 6, 9, 10, 14, 15, 21, 22... all these numbers have 2 prime factors (4=2*2, 6=2*3, 9=3*3, 10= 2*5...); they are 2-primes.\n",
    "\n",
    "k = 3 -> 8, 12, 18, 20, 27, 28, 30... all these numbers have 3 prime factors \n",
    "(8=2*2*2, 12=2*2*3, ...); they are 3-primes.\n"
   ]
  },
  {
   "cell_type": "code",
   "execution_count": 62,
   "metadata": {
    "collapsed": true
   },
   "outputs": [],
   "source": [
    "from collections import defaultdict\n",
    "def count_Kprimes(k, start, nd):\n",
    "    count_Kprimes = []\n",
    "    for n in range(start, nd+1):\n",
    "        test = n\n",
    "        sum_degree = 0\n",
    "        i = 2\n",
    "        while i*i <= n:\n",
    "            while n % i == 0:\n",
    "                sum_degree += 1\n",
    "                n //= i\n",
    "            i += 1\n",
    "            if (sum_degree) > k: break\n",
    "        if n > 1: sum_degree += 1\n",
    "        if (sum_degree) == k:\n",
    "            count_Kprimes.append(test)\n",
    "    return count_Kprimes\n",
    "#def puzzle(s): no idea\n",
    "\n",
    "def puzzle(s):\n",
    "    a = count_Kprimes(1, 0, s)\n",
    "    b = count_Kprimes(3, 0, s)\n",
    "    c = count_Kprimes(7, 0, s)\n",
    "    \n",
    "    return sum(1 for x in a for y in b for z in c if x + y + z == s)"
   ]
  },
  {
   "cell_type": "code",
   "execution_count": 63,
   "metadata": {},
   "outputs": [
    {
     "data": {
      "text/plain": [
       "[20, 27, 28, 30, 42, 44, 45, 50]"
      ]
     },
     "execution_count": 63,
     "metadata": {},
     "output_type": "execute_result"
    }
   ],
   "source": [
    "count_Kprimes(3, 20, 50)"
   ]
  },
  {
   "cell_type": "code",
   "execution_count": 55,
   "metadata": {
    "collapsed": true
   },
   "outputs": [],
   "source": [
    "def count_Kprimes(k, start, end):\n",
    "    return [n for n in range(start, end+1) if find_k(n) == k]\n",
    "\n",
    "def puzzle(s):\n",
    "    a = count_Kprimes(1, 0, s)\n",
    "    b = count_Kprimes(3, 0, s)\n",
    "    c = count_Kprimes(7, 0, s)\n",
    "    \n",
    "    return sum(1 for x in a for y in b for z in c if x + y + z == s)\n",
    "\n",
    "\n",
    "def find_k(n):\n",
    "    res = 0\n",
    "    i = 2\n",
    "    while i * i <= n:\n",
    "        while n % i == 0:\n",
    "            n //= i\n",
    "            res += 1\n",
    "        i += 1\n",
    "    if n > 1: res += 1\n",
    "    return res"
   ]
  },
  {
   "cell_type": "code",
   "execution_count": 56,
   "metadata": {},
   "outputs": [
    {
     "data": {
      "text/plain": [
       "[20, 27, 28, 30, 42, 44, 45, 50]"
      ]
     },
     "execution_count": 56,
     "metadata": {},
     "output_type": "execute_result"
    }
   ],
   "source": [
    "count_Kprimes(3, 20, 50)"
   ]
  },
  {
   "cell_type": "code",
   "execution_count": null,
   "metadata": {
    "collapsed": true
   },
   "outputs": [],
   "source": []
  }
 ],
 "metadata": {
  "kernelspec": {
   "display_name": "Python [default]",
   "language": "python",
   "name": "python3"
  },
  "language_info": {
   "codemirror_mode": {
    "name": "ipython",
    "version": 3
   },
   "file_extension": ".py",
   "mimetype": "text/x-python",
   "name": "python",
   "nbconvert_exporter": "python",
   "pygments_lexer": "ipython3",
   "version": "3.5.3"
  }
 },
 "nbformat": 4,
 "nbformat_minor": 2
}
