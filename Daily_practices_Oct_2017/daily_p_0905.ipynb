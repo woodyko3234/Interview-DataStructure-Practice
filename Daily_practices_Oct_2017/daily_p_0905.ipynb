{
 "cells": [
  {
   "cell_type": "markdown",
   "metadata": {},
   "source": [
    "Given a list of integers, find the highest product you can get from three of the integers.\n",
    "\n",
    "The input list_of_ints will always have at least three integers."
   ]
  },
  {
   "cell_type": "code",
   "execution_count": 49,
   "metadata": {
    "collapsed": true
   },
   "outputs": [],
   "source": [
    "def highest_product(list_of_ints):\n",
    "    if len(list_of_ints) < 3: return None\n",
    "    copied_list = sorted(list_of_ints.copy())\n",
    "    min_neg = copied_list[0:3] #min 3 ints\n",
    "    if len(copied_list) <= 6:\n",
    "        max_pos = copied_list[3:] #max 3 ints\n",
    "    else: \n",
    "        max_pos = sorted(copied_list, reverse = True)[0:3] \n",
    "    combined_list = []\n",
    "    combined_list.extend(min_neg)\n",
    "    combined_list.extend(max_pos)\n",
    "    compared_list = []\n",
    "    for i in range(0, len(combined_list)-2):\n",
    "        for j in range(i+1, len(combined_list)-1):\n",
    "            for k in range(j+1, len(combined_list)):\n",
    "                compared_list.append((combined_list[i] * combined_list[j] * combined_list[k]))\n",
    "    #nested loop, bad!\n",
    "    return max(compared_list)"
   ]
  },
  {
   "cell_type": "code",
   "execution_count": 55,
   "metadata": {
    "collapsed": true
   },
   "outputs": [],
   "source": [
    "def highest_product(list_of_ints):\n",
    "    '''Try solving the problem in only one loop!'''\n",
    "    if len(list_of_ints) < 3: return None\n",
    "    copied_list = sorted(list_of_ints.copy())\n",
    "    min_neg = copied_list[0:3] #min 3 ints\n",
    "    if len(copied_list) <= 6:\n",
    "        max_pos = copied_list[3:] #max 3 ints\n",
    "    else: \n",
    "        max_pos = sorted(copied_list, reverse = True)[0:3] \n",
    "    combined_list = []\n",
    "    combined_list.extend(min_neg)\n",
    "    combined_list.extend(max_pos)\n",
    "    compared_list = []\n",
    "    cache1, cache2, abs_first, abs_second, abs_third = 0, 0, 0, 0, 0\n",
    "    for i in combined_list:\n",
    "        if i < 0 and i < cache1:\n",
    "            cache1 = i\n",
    "        elif i in range(cache1, cache2):\n",
    "            cache2 = i\n",
    "        if i > abs_first:\n",
    "            abs_first = i\n",
    "        elif i > abs_second:\n",
    "            abs_second = i\n",
    "        elif i > abs_third:\n",
    "            abs_third = i\n",
    "    if cache1*cache2 > abs_second*abs_third: return (cache1* cache2* abs_first)\n",
    "    else: return (abs_first* abs_second* abs_third)"
   ]
  },
  {
   "cell_type": "code",
   "execution_count": 56,
   "metadata": {},
   "outputs": [
    {
     "data": {
      "text/plain": [
       "43065"
      ]
     },
     "execution_count": 56,
     "metadata": {},
     "output_type": "execute_result"
    }
   ],
   "source": [
    "highest_product([-99, -5, 0, 5, 9, 15, 87])"
   ]
  },
  {
   "cell_type": "markdown",
   "metadata": {},
   "source": [
    "Two Joggers\n",
    "\n",
    "Description\n",
    "\n",
    "Bob and Charles are meeting for their weekly jogging tour. They both start at the same spot called \"Start\" and they each run a different lap, which may (or may not) vary in length. Since they know each other for a long time already, they both run at the exact same speed.\n",
    "\n",
    "Illustration\n",
    "\n",
    "Example where Charles (dashed line) runs a shorter lap than Bob:\n",
    "\n",
    "Example laps\n",
    "\n",
    "Task\n",
    "\n",
    "Your job is to complete the function nbrOfLaps(x, y) that, given the length of the laps for Bob and Charles, finds the number of laps that each jogger has to complete before they meet each other again, at the same time, at the start.\n",
    "\n",
    "The function takes two arguments:\n",
    "\n",
    "The length of Bob's lap (larger than 0)\n",
    "The length of Charles' lap (larger than 0)\n",
    "\n",
    "The function should return an array (Tuple<int, int> in C#) containing exactly two numbers:\n",
    "\n",
    "The first number is the number of laps that Bob has to run\n",
    "The second number is the number of laps that Charles has to run\n",
    "\n",
    "Examples:\n",
    "\n",
    "nbr_of_laps(5, 3) # returns [3,5]\n",
    "nbr_of_laps(4, 6); # returns [3, 2]"
   ]
  },
  {
   "cell_type": "code",
   "execution_count": 65,
   "metadata": {
    "collapsed": true
   },
   "outputs": [],
   "source": [
    "from math import gcd\n",
    "def nbr_of_laps(x, y):\n",
    "    return [y/gcd(x, y), x/gcd(x, y)]"
   ]
  },
  {
   "cell_type": "code",
   "execution_count": 62,
   "metadata": {},
   "outputs": [
    {
     "data": {
      "text/plain": [
       "[3.0, 2.0]"
      ]
     },
     "execution_count": 62,
     "metadata": {},
     "output_type": "execute_result"
    }
   ],
   "source": [
    "nbr_of_laps(4, 6)"
   ]
  },
  {
   "cell_type": "code",
   "execution_count": 64,
   "metadata": {},
   "outputs": [
    {
     "data": {
      "text/plain": [
       "[5.0, 3.0]"
      ]
     },
     "execution_count": 64,
     "metadata": {},
     "output_type": "execute_result"
    }
   ],
   "source": [
    "nbr_of_laps(3, 5)"
   ]
  },
  {
   "cell_type": "markdown",
   "metadata": {},
   "source": [
    "You need to write regex that will validate a password to make sure it meets the following criteria:\n",
    "\n",
    "At least six characters long\n",
    "\n",
    "contains a lowercase letter\n",
    "\n",
    "contains an uppercase letter\n",
    "\n",
    "contains a number\n",
    "\n",
    "Valid passwords will only be alphanumeric characters."
   ]
  },
  {
   "cell_type": "code",
   "execution_count": 139,
   "metadata": {
    "collapsed": true
   },
   "outputs": [],
   "source": [
    "import re\n",
    "def re_validate(regex):\n",
    "    if len(regex) < 6: return False\n",
    "    if bool(re.search(r\"[a-z+]\", regex)):\n",
    "        if bool(re.search(r\"[A-Z+]\", regex)):\n",
    "            if bool(re.search(r\"[0-9+]\", regex)):\n",
    "                if not bool(re.search(r'\\W', regex)):\n",
    "                    return True\n",
    "    return False\n",
    "        "
   ]
  },
  {
   "cell_type": "code",
   "execution_count": 140,
   "metadata": {},
   "outputs": [
    {
     "name": "stdout",
     "output_type": "stream",
     "text": [
      "False\n"
     ]
    }
   ],
   "source": [
    "print(re_validate('fj3IR'))"
   ]
  },
  {
   "cell_type": "code",
   "execution_count": 153,
   "metadata": {
    "collapsed": true
   },
   "outputs": [],
   "source": [
    "from re import compile, VERBOSE\n",
    "\n",
    "regex = compile(\"\"\"\n",
    "^              # begin word\n",
    "(?=.*?[a-z])   # at least one lowercase letter\n",
    "(?=.*?[A-Z])   # at least one uppercase letter\n",
    "(?=.*?[0-9])   # at least one number\n",
    "[A-Za-z\\d]     # only alphanumeric\n",
    "{6,}           # at least 6 characters long\n",
    "$              # end word\n",
    "\"\"\", VERBOSE)"
   ]
  },
  {
   "cell_type": "code",
   "execution_count": null,
   "metadata": {
    "collapsed": true
   },
   "outputs": [],
   "source": []
  }
 ],
 "metadata": {
  "kernelspec": {
   "display_name": "Python [default]",
   "language": "python",
   "name": "python3"
  },
  "language_info": {
   "codemirror_mode": {
    "name": "ipython",
    "version": 3
   },
   "file_extension": ".py",
   "mimetype": "text/x-python",
   "name": "python",
   "nbconvert_exporter": "python",
   "pygments_lexer": "ipython3",
   "version": "3.5.3"
  }
 },
 "nbformat": 4,
 "nbformat_minor": 2
}
