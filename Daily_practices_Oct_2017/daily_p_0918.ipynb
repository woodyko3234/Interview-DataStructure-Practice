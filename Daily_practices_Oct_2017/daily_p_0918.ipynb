{
 "cells": [
  {
   "cell_type": "markdown",
   "metadata": {},
   "source": [
    "In this kata you parse RGB colors represented by strings. The formats are primarily used in HTML and CSS. Your task is to implement a function which takes a color as a string and returns the parsed color as a map (see Examples).\n",
    "\n",
    "Input:\n",
    "\n",
    "The input string represents one of the following:\n",
    "\n",
    "6-digit hexadecimal - \"#RRGGBB\"\n",
    "\n",
    "e.g. \"#012345\", \"#789abc\", \"#FFA077\"\n",
    "\n",
    "Each pair of digits represents a value of the channel in hexadecimal: 00 to FF\n",
    "\n",
    "3-digit hexadecimal - \"#RGB\"\n",
    "\n",
    "e.g. \"#012\", \"#aaa\", \"#F5A\"\n",
    "\n",
    "Each digit represents a value 0 to F which translates to 2-digit hexadecimal: 0->00, 1->11, 2->22, and so on.\n",
    "\n",
    "Preset color name\n",
    "\n",
    "e.g. \"red\", \"BLUE\", \"LimeGreen\"\n",
    "\n",
    "You have to use the predefined map PRESET_COLORS (JavaScript, Python, Ruby), presetColors (Java, C#, Haskell), or preset-colors (Clojure). The keys are the names of preset colors in lower-case and the values are the corresponding colors in 6-digit hexadecimal (same as 1. \"#RRGGBB\").\n",
    "\n",
    "Examples:\n",
    "\n",
    "parse_html_color('#80FFA0')   # => {'r': 128, 'g': 255, 'b': 160}\n",
    "\n",
    "parse_html_color('#3B7')      # => {'r': 51,  'g': 187, 'b': 119}\n",
    "\n",
    "parse_html_color('LimeGreen') # => {'r': 50,  'g': 205, 'b': 50 }"
   ]
  },
  {
   "cell_type": "code",
   "execution_count": 5,
   "metadata": {
    "collapsed": true
   },
   "outputs": [],
   "source": [
    "def parse_html_color(color):\n",
    "    color = PRESET_COLORS.get(color.lower(), color)\n",
    "    \n",
    "    if len(color) == 7:\n",
    "        r, g, b = (int(color[i:i+2], 16) for i in range(1, 7, 2))\n",
    "    else:\n",
    "        r, g, b = (int(color[i+1]*2, 16) for i in range(3))\n",
    "    \n",
    "    return dict(zip(\"rgb\", (r, g, b)))"
   ]
  },
  {
   "cell_type": "markdown",
   "metadata": {},
   "source": [
    "Your Function\n",
    "\n",
    "The function you are going to write is not actually going to help you with your piano playing, but just explore one of the patterns you're experiencing: Given the number you stopped on, was it on a black key or a white key? For example, in the description of your piano exercise above, if you stopped at 5, your left thumb would be on the fifth key of the piano, which is black. Or if you stopped at 92, you would have gone all the way from keys 1 to 88 and then wrapped around, so that you would be on the fourth key, which is white.\n",
    "\n",
    "Your function will receive an integer between 1 and 10000 (maybe you think that in principle it would be cool to count up to, say, a billion, but considering how many years it would take it is just not possible) and return the string \"black\" or \"white\" -- here are a few more examples:\n",
    "\n",
    "1     \"white\"\n",
    "12    \"black\"\n",
    "42    \"white\"\n",
    "100   \"black\"\n",
    "2017  \"white\"\n",
    "Have fun! And if you enjoy this kata, check out the sequel: Piano Kata, Part 2"
   ]
  },
  {
   "cell_type": "code",
   "execution_count": 7,
   "metadata": {
    "collapsed": true
   },
   "outputs": [],
   "source": [
    "def black_or_white_key(key_press_count):\n",
    "    basic_loop = ['white', 'black', 'white', 'black', 'white', \n",
    "                  'white', 'black', 'white', 'black', 'white', 'black', 'white']\n",
    "    key_num = key_press_count % 88\n",
    "    if 87 >= key_num >=4:\n",
    "        return basic_loop[(key_press_count % 88 - 3) %12 -1]\n",
    "    elif key_num in [0, 1, 3]: return 'white'\n",
    "    else: return 'black'"
   ]
  },
  {
   "cell_type": "code",
   "execution_count": 8,
   "metadata": {
    "collapsed": true
   },
   "outputs": [],
   "source": [
    "def black_or_white_key(key_press_count):\n",
    "    return \"black\" if (key_press_count - 1) % 88 % 12 in [1, 4, 6, 9, 11] else \"white\""
   ]
  },
  {
   "cell_type": "code",
   "execution_count": null,
   "metadata": {
    "collapsed": true
   },
   "outputs": [],
   "source": []
  }
 ],
 "metadata": {
  "kernelspec": {
   "display_name": "Python [default]",
   "language": "python",
   "name": "python3"
  },
  "language_info": {
   "codemirror_mode": {
    "name": "ipython",
    "version": 3
   },
   "file_extension": ".py",
   "mimetype": "text/x-python",
   "name": "python",
   "nbconvert_exporter": "python",
   "pygments_lexer": "ipython3",
   "version": "3.5.3"
  }
 },
 "nbformat": 4,
 "nbformat_minor": 2
}
