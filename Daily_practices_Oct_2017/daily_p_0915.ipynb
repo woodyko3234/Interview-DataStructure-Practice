{
 "cells": [
  {
   "cell_type": "markdown",
   "metadata": {},
   "source": [
    "I always thought that my old friend John was rather richer than he looked, but I never knew exactly how much money he actually had. One day (as I was plying him with questions) he said: \"Imagine I have between m and n Zloty (or did he say Quetzal? I can't remember!)\n",
    "\n",
    "If I were to buy 9 cars costing c each, I'd only have 1 Zlotty (or was it Meticals?) left.\n",
    "\n",
    "And if I were to buy 7 boats at b each, I'd only have 2 Ringglets (or was it Zlotty?) left.\n",
    "\n",
    "Could you tell me in each possible case:\n",
    "\n",
    "how much money f he could possibly have\n",
    "the cost c of a car\n",
    "the cost b of a boat?\n",
    "So, I will have a better idea about his fortune. Note that if m-n is big enough, you might have a lot of possible answers.\n",
    "\n",
    "Each answer will be given as [\"M: f\", \"B: b\", \"C: c\"] and all the answers as [ [\"M: f\", \"B: b\", \"C: c\"] ... ]. M stands for \"Money\", B for boats, C for cars.\n",
    "\n",
    "m and n are positive or null integers with m <= n or m >= n, m and n inclusive.\n",
    "\n",
    "##Examples:\n",
    "\n",
    "howmuch(1, 100) => [[\"M: 37\", \"B: 5\", \"C: 4\"], [\"M: 100\", \"B: 14\", \"C: 11\"]]\n",
    "\n",
    "howmuch(1000, 1100) => [[\"M: 1045\", \"B: 149\", \"C: 116\"]]\n",
    "\n",
    "howmuch(10000, 9950) => [[\"M: 9991\", \"B: 1427\", \"C: 1110\"]]\n",
    "\n",
    "howmuch(0, 200) => [[\"M: 37\", \"B: 5\", \"C: 4\"], [\"M: 100\", \"B: 14\", \"C: 11\"], [\"M: 163\", \"B: 23\", \"C: 18\"]]\n",
    "\n",
    "Explanation of howmuch(1, 100):\n",
    "\n",
    "In the first answer his possible fortune is 37 so if he buys 7 boats each worth 5 it remains 37 - 7 * 5 = 2, if he buys 9 cars worth 4 each it remains 37 - 9 * 4 = 1. The same with f = 100: 100 - 7 * 14 = 2 and 100 - 9 * 11 = 1."
   ]
  },
  {
   "cell_type": "code",
   "execution_count": 7,
   "metadata": {
    "collapsed": true
   },
   "outputs": [],
   "source": [
    "from collections import defaultdict\n",
    "def howmuch(m, n):\n",
    "    output_arr, inner_dict = [], defaultdict(int)\n",
    "    for i in range(min(m, n), max(m, n)+1):\n",
    "        if (i - 1)%9 != 0 or (i-2)%7 !=0: continue\n",
    "        arr = []\n",
    "        arr.append('%s: %d'% ('M', i))\n",
    "        arr.append('%s: %d'% ('B', i//7))\n",
    "        arr.append('%s: %d'% ('C', i//9))\n",
    "        output_arr.append(arr)\n",
    "    return output_arr"
   ]
  },
  {
   "cell_type": "code",
   "execution_count": 8,
   "metadata": {},
   "outputs": [
    {
     "data": {
      "text/plain": [
       "[['M: 37', 'B: 5', 'C: 4'], ['M: 100', 'B: 14', 'C: 11']]"
      ]
     },
     "execution_count": 8,
     "metadata": {},
     "output_type": "execute_result"
    }
   ],
   "source": [
    "howmuch(1, 100)"
   ]
  },
  {
   "cell_type": "code",
   "execution_count": 9,
   "metadata": {
    "collapsed": true
   },
   "outputs": [],
   "source": [
    "def howmuch(m, n):    \n",
    "    return [['M: %d'%i, 'B: %d'%(i/7), 'C: %d'%(i/9)] for i in range(min(m,n), max(m,n)+1) if i%7 == 2 and i%9 == 1]"
   ]
  },
  {
   "cell_type": "markdown",
   "metadata": {},
   "source": [
    "Your task is to write a higher order function for chaining together a list of unary functions. In other words, it should return a function that does a left fold on the given functions.\n",
    "\n",
    "chained([a,b,c,d])(input)\n",
    "\n",
    "Should yield the same result as\n",
    "\n",
    "d(c(b(a(input))))"
   ]
  },
  {
   "cell_type": "code",
   "execution_count": 10,
   "metadata": {
    "collapsed": true
   },
   "outputs": [],
   "source": [
    "def chained(functions):\n",
    "    def f(x):\n",
    "        for function in functions:\n",
    "            x = function(x)\n",
    "        return x\n",
    "    return f"
   ]
  },
  {
   "cell_type": "markdown",
   "metadata": {},
   "source": [
    "Create a function that accepts dimensions, of Rows x Columns, as parameters in order to create a multiplication table sized according to the given dimensions. **The return value of the function must be an array, and the numbers must be Fixnums, NOT strings.\n",
    "\n",
    "Example:\n",
    "\n",
    "multiplication_table(3,3)\n",
    "\n",
    "1 2 3\n",
    "\n",
    "2 4 6\n",
    "\n",
    "3 6 9\n",
    "\n",
    "-->[[1,2,3],[2,4,6],[3,6,9]]\n",
    "\n",
    "Each value on the table should be equal to the value of multiplying the number in its first row times the number in its first column."
   ]
  },
  {
   "cell_type": "code",
   "execution_count": 17,
   "metadata": {
    "collapsed": true
   },
   "outputs": [],
   "source": [
    "def multiplication_table(row,col):\n",
    "    return [[i*j for j in range(1, col+1)] for i in range(1,row+1)  ]"
   ]
  },
  {
   "cell_type": "code",
   "execution_count": 18,
   "metadata": {},
   "outputs": [
    {
     "data": {
      "text/plain": [
       "[[1, 2], [2, 4]]"
      ]
     },
     "execution_count": 18,
     "metadata": {},
     "output_type": "execute_result"
    }
   ],
   "source": [
    "multiplication_table(2,2)"
   ]
  },
  {
   "cell_type": "code",
   "execution_count": null,
   "metadata": {
    "collapsed": true
   },
   "outputs": [],
   "source": []
  }
 ],
 "metadata": {
  "kernelspec": {
   "display_name": "Python [default]",
   "language": "python",
   "name": "python3"
  },
  "language_info": {
   "codemirror_mode": {
    "name": "ipython",
    "version": 3
   },
   "file_extension": ".py",
   "mimetype": "text/x-python",
   "name": "python",
   "nbconvert_exporter": "python",
   "pygments_lexer": "ipython3",
   "version": "3.5.3"
  }
 },
 "nbformat": 4,
 "nbformat_minor": 2
}
