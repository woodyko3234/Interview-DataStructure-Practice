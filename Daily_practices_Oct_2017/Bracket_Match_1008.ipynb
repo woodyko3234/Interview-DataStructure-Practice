{
 "cells": [
  {
   "cell_type": "markdown",
   "metadata": {},
   "source": [
    "A string of brackets is considered correctly matched if every opening bracket in the string can be paired up with a later closing bracket, and vice versa. For instance, “(())()” is correctly matched, whereas “)(“ and “((” aren’t. For instance, “((” could become correctly matched by adding two closing brackets at the end, so you’d return 2.\n",
    "\n",
    "Given a string that consists of brackets, write a function bracketMatch that takes a bracket string as an input and returns the minimum number of brackets you’d need to add to the input in order to make it correctly matched.\n",
    "\n",
    "Explain the correctness of your code, and analyze its time and space complexities.\n",
    "\n",
    "Examples:\n",
    "\n",
    "input:  text = “(()”\n",
    "output: 1\n",
    "\n",
    "input:  text = “(())”\n",
    "output: 0\n",
    "\n",
    "input:  text = “())(”\n",
    "output: 2\n",
    "Constraints:\n",
    "\n",
    "[time limit] 5000ms\n",
    "\n",
    "[input] string text\n",
    "\n",
    "1 ≤ text.length ≤ 5000\n",
    "[output] integer"
   ]
  },
  {
   "cell_type": "code",
   "execution_count": 26,
   "metadata": {
    "collapsed": true
   },
   "outputs": [],
   "source": [
    "def bracket_match(text):\n",
    "    left_bracket = 0\n",
    "    right_bracket = 0\n",
    "    unmatched = 0\n",
    "    for char in text:\n",
    "        if char == '(':\n",
    "            left_bracket += 1\n",
    "        elif char == ')' and left_bracket > 0:\n",
    "            left_bracket -= 1\n",
    "        elif char == ')' and left_bracket == 0:\n",
    "            unmatched += 1\n",
    "    return unmatched + left_bracket"
   ]
  },
  {
   "cell_type": "code",
   "execution_count": 27,
   "metadata": {},
   "outputs": [
    {
     "data": {
      "text/plain": [
       "0"
      ]
     },
     "execution_count": 27,
     "metadata": {},
     "output_type": "execute_result"
    }
   ],
   "source": [
    "text = \"()()()()()()()()()()()()()((()))\"\n",
    "bracket_match(text)"
   ]
  },
  {
   "cell_type": "code",
   "execution_count": 28,
   "metadata": {},
   "outputs": [
    {
     "data": {
      "text/plain": [
       "0"
      ]
     },
     "execution_count": 28,
     "metadata": {},
     "output_type": "execute_result"
    }
   ],
   "source": [
    "text2 = \"\"\n",
    "bracket_match(text2)"
   ]
  },
  {
   "cell_type": "code",
   "execution_count": 29,
   "metadata": {},
   "outputs": [
    {
     "data": {
      "text/plain": [
       "10"
      ]
     },
     "execution_count": 29,
     "metadata": {},
     "output_type": "execute_result"
    }
   ],
   "source": [
    "text3 = '))))))))()((()'\n",
    "bracket_match(text3)"
   ]
  },
  {
   "cell_type": "code",
   "execution_count": null,
   "metadata": {
    "collapsed": true
   },
   "outputs": [],
   "source": []
  }
 ],
 "metadata": {
  "kernelspec": {
   "display_name": "Python [default]",
   "language": "python",
   "name": "python3"
  },
  "language_info": {
   "codemirror_mode": {
    "name": "ipython",
    "version": 3
   },
   "file_extension": ".py",
   "mimetype": "text/x-python",
   "name": "python",
   "nbconvert_exporter": "python",
   "pygments_lexer": "ipython3",
   "version": "3.5.4"
  }
 },
 "nbformat": 4,
 "nbformat_minor": 2
}
