{
 "cells": [
  {
   "cell_type": "code",
   "execution_count": 5,
   "metadata": {},
   "outputs": [],
   "source": [
    "#Implement a method that accepts 3 integer values a, b, c. \n",
    "#The method should return true if a triangle can be built with the sides of given length and false in any other case.\n",
    "\n",
    "#(In this case, all triangles must have surface greater than 0 to be accepted).\n",
    "\n",
    "def is_triangle(a, b, c):\n",
    "    num_list = [a, b, c]\n",
    "    for i in num_list:\n",
    "        if (sum(num_list) - 2*i) <= 0 or i <= 0:\n",
    "            return False\n",
    "    return True"
   ]
  },
  {
   "cell_type": "code",
   "execution_count": 7,
   "metadata": {},
   "outputs": [
    {
     "data": {
      "text/plain": [
       "False"
      ]
     },
     "execution_count": 7,
     "metadata": {},
     "output_type": "execute_result"
    }
   ],
   "source": [
    "is_triangle(0, 1, 2)"
   ]
  },
  {
   "cell_type": "code",
   "execution_count": 8,
   "metadata": {
    "collapsed": true
   },
   "outputs": [],
   "source": [
    "def is_triangle(a, b, c):\n",
    "    return (a<b+c) and (b<a+c) and (c<a+b)"
   ]
  },
  {
   "cell_type": "code",
   "execution_count": 11,
   "metadata": {
    "collapsed": true
   },
   "outputs": [],
   "source": [
    "#Create a function that returns the sum of the two lowest positive numbers given an array of minimum 4 integers. \n",
    "#No floats or empty arrays will be passed.\n",
    "\n",
    "#For example, when an array is passed like [19,5,42,2,77], the output should be 7.\n",
    "\n",
    "#[10,343445353,3453445,3453545353453] should return 3453455.\n",
    "\n",
    "#Hint: Do not modify the original array.\n",
    "\n",
    "def sum_two_smallest_numbers(numbers):\n",
    "    num_check = []\n",
    "    for i in numbers:\n",
    "        if isinstance(i, int) and i > 0:\n",
    "            num_check.append(i)\n",
    "    return sum(sorted(num_check)[0:2])"
   ]
  },
  {
   "cell_type": "code",
   "execution_count": 31,
   "metadata": {
    "collapsed": true
   },
   "outputs": [],
   "source": [
    "#In the following 6 digit number:\n",
    "\n",
    "#283910\n",
    "#91 is the greatest sequence of 2 digits.\n",
    "\n",
    "#In the following 10 digit number:\n",
    "\n",
    "#1234567890\n",
    "#67890 is the greatest sequence of 5 digits.\n",
    "\n",
    "#Complete the solution so that it returns the largest five digit number found within the number given. \n",
    "#The number will be passed in as a string of only digits. It should return a five digit integer. \n",
    "#The number passed may be as large as 1000 digits.\n",
    "\n",
    "\n",
    "def solution(digits):\n",
    "    checklist = []\n",
    "    str_num = str(digits)\n",
    "    for num in range(0, len(str_num) - 4):\n",
    "        checklist.append(str_num[num: num+5])\n",
    "    return int(max(checklist))"
   ]
  },
  {
   "cell_type": "code",
   "execution_count": 32,
   "metadata": {},
   "outputs": [
    {
     "data": {
      "text/plain": [
       "98765"
      ]
     },
     "execution_count": 32,
     "metadata": {},
     "output_type": "execute_result"
    }
   ],
   "source": [
    "solution(1234567898765)"
   ]
  },
  {
   "cell_type": "code",
   "execution_count": 30,
   "metadata": {},
   "outputs": [],
   "source": [
    "def solution(digits):\n",
    "    max = 0\n",
    "    \n",
    "    while digits != \"\":\n",
    "        num = int(digits[:5])\n",
    "        if num > max: max = num\n",
    "        digits = digits[1:]\n",
    "    \n",
    "    return max"
   ]
  },
  {
   "cell_type": "code",
   "execution_count": 42,
   "metadata": {},
   "outputs": [],
   "source": [
    "#Given two arrays of strings a1 and a2 return a sorted array r in lexicographical order of the strings of a1 \n",
    "#which are substrings of strings of a2.\n",
    "\n",
    "#Example 1: a1 = [\"arp\", \"live\", \"strong\"]\n",
    "#a2 = [\"lively\", \"alive\", \"harp\", \"sharp\", \"armstrong\"]\n",
    "#returns [\"arp\", \"live\", \"strong\"]\n",
    "\n",
    "#Example 2: a1 = [\"tarp\", \"mice\", \"bull\"]\n",
    "#a2 = [\"lively\", \"alive\", \"harp\", \"sharp\", \"armstrong\"]\n",
    "#returns []\n",
    "\n",
    "#Notes: Arrays are written in \"general\" notation. See \"Your Test Cases\" for examples in your language.\n",
    "#Beware: r must be without duplicates.\n",
    "import re\n",
    "def in_array(array1, array2):\n",
    "    return sorted(list(set(i for i in array1 if re.search(i, \"/\".join(array2)))))"
   ]
  },
  {
   "cell_type": "code",
   "execution_count": 43,
   "metadata": {},
   "outputs": [
    {
     "data": {
      "text/plain": [
       "['arp', 'live', 'strong']"
      ]
     },
     "execution_count": 43,
     "metadata": {},
     "output_type": "execute_result"
    }
   ],
   "source": [
    "a1 = [\"live\", \"arp\", \"strong\"] \n",
    "a2 = [\"lively\", \"alive\", \"harp\", \"sharp\", \"armstrong\"]\n",
    "in_array(a1, a2)"
   ]
  },
  {
   "cell_type": "code",
   "execution_count": null,
   "metadata": {
    "collapsed": true
   },
   "outputs": [],
   "source": []
  }
 ],
 "metadata": {
  "kernelspec": {
   "display_name": "Python [default]",
   "language": "python",
   "name": "python3"
  },
  "language_info": {
   "codemirror_mode": {
    "name": "ipython",
    "version": 3
   },
   "file_extension": ".py",
   "mimetype": "text/x-python",
   "name": "python",
   "nbconvert_exporter": "python",
   "pygments_lexer": "ipython3",
   "version": "3.5.3"
  }
 },
 "nbformat": 4,
 "nbformat_minor": 2
}
