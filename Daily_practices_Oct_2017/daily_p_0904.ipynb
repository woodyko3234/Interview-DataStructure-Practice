{
 "cells": [
  {
   "cell_type": "code",
   "execution_count": 1,
   "metadata": {
    "collapsed": true
   },
   "outputs": [],
   "source": [
    "#Sum of Pairs\n",
    "\n",
    "#Given a list of integers and a single sum value, return the first two values (parse from the left please) \n",
    "#in order of appearance that add up to form the sum.\n",
    "\n",
    "#sum_pairs([11, 3, 7, 5],         10)\n",
    "#              ^--^      3 + 7 = 10\n",
    "#== [3, 7]\n",
    "\n",
    "#sum_pairs([4, 3, 2, 3, 4],         6)\n",
    "#          ^-----^         4 + 2 = 6, indices: 0, 2 *\n",
    "#             ^-----^      3 + 3 = 6, indices: 1, 3\n",
    "#                ^-----^   2 + 4 = 6, indices: 2, 4\n",
    "#  * entire pair is earlier, and therefore is the correct answer\n",
    "#== [4, 2]\n",
    "\n",
    "#sum_pairs([0, 0, -2, 3], 2)\n",
    "#  there are no pairs of values that can be added to produce 2.\n",
    "#== None/nil/undefined (Based on the language)\n",
    "\n",
    "#sum_pairs([10, 5, 2, 3, 7, 5],         10)\n",
    "#              ^-----------^   5 + 5 = 10, indices: 1, 5\n",
    "#                    ^--^      3 + 7 = 10, indices: 3, 4 *\n",
    "#  * entire pair is earlier, and therefore is the correct answer\n",
    "#== [3, 7]\n",
    "#Negative numbers and duplicate numbers can and will appear.\n",
    "\n",
    "#NOTE: There will also be lists tested of lengths upwards of 10,000,000 elements. Be sure your code doesn't time out."
   ]
  },
  {
   "cell_type": "code",
   "execution_count": 2,
   "metadata": {
    "collapsed": true
   },
   "outputs": [],
   "source": [
    "def sum_pairs(lst, num):\n",
    "    #nested loop, easy but time costing\n",
    "    sum_idx = []\n",
    "    for idx, integer in enumerate(lst):\n",
    "        if idx == len(lst) - 1: break\n",
    "        for match_idx in range(idx+1, len(lst)):\n",
    "            if num - integer == lst[match_idx]:\n",
    "                sum_idx.append([idx, match_idx])\n",
    "    if sum_idx != []:\n",
    "        first_sum_idx = sorted(sum_idx, key = lambda s: s[1])[0]\n",
    "    else: return None\n",
    "    return [lst[x] for x in first_sum_idx]"
   ]
  },
  {
   "cell_type": "code",
   "execution_count": 3,
   "metadata": {
    "collapsed": true
   },
   "outputs": [],
   "source": [
    "sum_pairs([0, 0, -2, 3], 2)"
   ]
  },
  {
   "cell_type": "code",
   "execution_count": 4,
   "metadata": {
    "collapsed": true
   },
   "outputs": [],
   "source": [
    "def sum_pairs(lst, num):\n",
    "    #another type of nested loop, less time costing\n",
    "    check_list = []\n",
    "    for i in lst:\n",
    "        check_list.append(i)\n",
    "        if len(check_list) <1: continue\n",
    "        for j in range(0, len(check_list)-1):\n",
    "            if num-i == check_list[j]: return [check_list[j], i]\n",
    "    return None"
   ]
  },
  {
   "cell_type": "code",
   "execution_count": 8,
   "metadata": {
    "collapsed": true
   },
   "outputs": [],
   "source": [
    "def sum_pairs(lst, num):\n",
    "    #another type of nested loop, less time costing\n",
    "    for i in range(0, len(lst)):\n",
    "        if len(lst[:i]) <1: continue\n",
    "        if num - lst[i] in lst[0:i]: return [num-lst[i], lst[i]]\n",
    "    return None"
   ]
  },
  {
   "cell_type": "code",
   "execution_count": 9,
   "metadata": {
    "collapsed": true
   },
   "outputs": [],
   "source": [
    "sum_pairs([0, 0, -2, 3], 2)"
   ]
  },
  {
   "cell_type": "code",
   "execution_count": 10,
   "metadata": {},
   "outputs": [
    {
     "data": {
      "text/plain": [
       "[4, 2]"
      ]
     },
     "execution_count": 10,
     "metadata": {},
     "output_type": "execute_result"
    }
   ],
   "source": [
    "sum_pairs([4, 3, 2, 3, 4],         6)"
   ]
  },
  {
   "cell_type": "code",
   "execution_count": 11,
   "metadata": {},
   "outputs": [],
   "source": [
    "def sum_pairs(lst, num):\n",
    "    #change the list elements tested to be a unique set\n",
    "    #avoid checking duplicates in the tested list elements\n",
    "    cache = set()\n",
    "    for i in lst:\n",
    "        if num - i in cache: return [num-i, i]\n",
    "        cache.add(i)\n",
    "    return None"
   ]
  },
  {
   "cell_type": "markdown",
   "metadata": {
    "collapsed": true
   },
   "source": [
    "Problem Context\n",
    "\n",
    "The Fibonacci sequence is traditionally used to explain tree recursion.\n",
    "\n",
    "def fibonacci(n):\n",
    "\n",
    "    if n in [0, 1]:\n",
    "    \n",
    "        return n\n",
    "        \n",
    "    return fibonacci(n - 1) + fibonacci(n - 2)\n",
    "\n",
    "This algorithm serves welll its educative purpose but it's tremendously inefficient, not only because of recursion, but because we invoke the fibonacci function twice, and the right branch of recursion (i.e. fibonacci(n-2)) recalculates all the Fibonacci numbers already calculated by the left branch (i.e. fibonacci(n-1)).\n",
    "\n",
    "This algorithm is so inefficient that the time to calculate any Fibonacci number over 50 is simply too much. You may go for a cup of coffee or go take a nap while you wait for the answer. But if you try it here in Code Wars you will most likely get a code timeout before any answers.\n",
    "\n",
    "For this particular Kata we want to implement the memoization solution. This will be cool because it will let us keep using the tree recursion algorithm while still keeping it sufficiently optimized to get an answer very rapidly.\n",
    "\n",
    "The trick of the memoized version is that we will keep a cache data structure (most likely an associative array) where we will store the Fibonacci numbers as we calculate them. When a Fibonacci number is calculated, we first look it up in the cache, if it's not there, we calculate it and put it in the cache, otherwise we returned the cached number.\n",
    "\n",
    "Refactor the function into a recursive Fibonacci function that using a memoized data structure avoids the deficiencies of tree recursion Can you make it so the memoization cache is private to this function?"
   ]
  },
  {
   "cell_type": "code",
   "execution_count": 13,
   "metadata": {},
   "outputs": [],
   "source": [
    "def fibonacci(n):\n",
    "    if n in [0, 1]: return n\n",
    "    return fibonacci(n - 1) + fibonacci(n - 2)"
   ]
  },
  {
   "cell_type": "code",
   "execution_count": 31,
   "metadata": {},
   "outputs": [
    {
     "data": {
      "text/plain": [
       "2"
      ]
     },
     "execution_count": 31,
     "metadata": {},
     "output_type": "execute_result"
    }
   ],
   "source": [
    "fibonacci(3)"
   ]
  },
  {
   "cell_type": "code",
   "execution_count": 41,
   "metadata": {
    "collapsed": true
   },
   "outputs": [],
   "source": [
    "def fibonacci(n):\n",
    "    a_val, b_val, count = 0, 1, 2\n",
    "    if n in [0, 1]: return n\n",
    "    while count < n:\n",
    "        a_val, b_val = b_val, a_val + b_val\n",
    "        count += 1\n",
    "    return a_val + b_val"
   ]
  },
  {
   "cell_type": "code",
   "execution_count": 47,
   "metadata": {},
   "outputs": [
    {
     "data": {
      "text/plain": [
       "55"
      ]
     },
     "execution_count": 47,
     "metadata": {},
     "output_type": "execute_result"
    }
   ],
   "source": [
    "fibonacci(10)"
   ]
  },
  {
   "cell_type": "code",
   "execution_count": null,
   "metadata": {
    "collapsed": true
   },
   "outputs": [],
   "source": []
  }
 ],
 "metadata": {
  "kernelspec": {
   "display_name": "Python [default]",
   "language": "python",
   "name": "python3"
  },
  "language_info": {
   "codemirror_mode": {
    "name": "ipython",
    "version": 3
   },
   "file_extension": ".py",
   "mimetype": "text/x-python",
   "name": "python",
   "nbconvert_exporter": "python",
   "pygments_lexer": "ipython3",
   "version": "3.5.3"
  }
 },
 "nbformat": 4,
 "nbformat_minor": 2
}
