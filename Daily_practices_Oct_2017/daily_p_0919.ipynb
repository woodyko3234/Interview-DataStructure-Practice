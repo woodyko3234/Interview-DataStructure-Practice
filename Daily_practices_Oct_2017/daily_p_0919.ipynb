{
 "cells": [
  {
   "cell_type": "markdown",
   "metadata": {},
   "source": [
    "Short Intro\n",
    "\n",
    "Some of you might remember spending afternoons playing Street Fighter 2 in some Arcade back in the 90s or emulating it nowadays with the numerous emulators for retro consoles.\n",
    "\n",
    "Can you solve this kata? Suuure-You-Can!\n",
    "\n",
    "UPDATE: a new kata's harder version is available here.\n",
    "\n",
    "The Kata\n",
    "\n",
    "You'll have to simulate the video game's character selection screen behaviour, more specifically the selection grid. Such screen looks like this:\n",
    "\n",
    "alt text\n",
    "\n",
    "Selection Grid Layout in text:\n",
    "\n",
    "| Ryu  | E.Honda | Blanka  | Guile   | Balrog | Vega    |\n",
    "| Ken  | Chun Li | Zangief | Dhalsim | Sagat  | M.Bison |\n",
    "Input\n",
    "\n",
    "the list of game characters in a 2x6 grid;\n",
    "the initial position of the selection cursor (top-left is (0,0));\n",
    "a list of moves of the selection cursor (which are up, down, left, right);\n",
    "Output\n",
    "\n",
    "the list of characters who have been hovered by the selection cursor after all the moves (ordered and with repetition, all the ones after a move, wether successful or not, see tests);\n",
    "Rules\n",
    "\n",
    "Selection cursor is circular horizontally but not vertically!\n",
    "\n",
    "As you might remember from the game, the selection cursor rotates horizontally but not vertically; that means that if I'm in the leftmost and I try to go left again I'll get to the rightmost (examples: from Ryu to Vega, from Ken to M.Bison) and vice versa from rightmost to leftmost.\n",
    "\n",
    "Instead, if I try to go further up from the upmost or further down from the downmost, I'll just stay where I am located (examples: you can't go lower than lowest row: Ken, Chun Li, Zangief, Dhalsim, Sagat and M.Bison in the above image; you can't go upper than highest row: Ryu, E.Honda, Blanka, Guile, Balrog and Vega in the above image).\n",
    "\n",
    "Test\n",
    "\n",
    "For this easy version the fighters grid layout and the initial position will always be the same in all tests, only the list of moves change.\n",
    "\n",
    "Notice : changing some of the input data might not help you.\n",
    "\n",
    "Examples\n",
    "\n",
    "1.\n",
    "\n",
    "fighters = [\n",
    "    [\"Ryu\", \"E.Honda\", \"Blanka\", \"Guile\", \"Balrog\", \"Vega\"],\n",
    "    [\"Ken\", \"Chun Li\", \"Zangief\", \"Dhalsim\", \"Sagat\", \"M.Bison\"]\n",
    "]\n",
    "initial_position = (0,0)\n",
    "moves = ['up', 'left', 'right', 'left', 'left']\n",
    "then I should get:\n",
    "\n",
    "['Ryu', 'Vega', 'Ryu', 'Vega', 'Balrog']\n",
    "as the characters I've been hovering with the selection cursor during my moves. Notice: Ryu is the first just because it \"fails\" the first up See test cases for more examples.\n",
    "\n",
    "2.\n",
    "\n",
    "fighters = [\n",
    "    [\"Ryu\", \"E.Honda\", \"Blanka\", \"Guile\", \"Balrog\", \"Vega\"],\n",
    "    [\"Ken\", \"Chun Li\", \"Zangief\", \"Dhalsim\", \"Sagat\", \"M.Bison\"]\n",
    "]\n",
    "initial_position = (0,0)\n",
    "moves = ['right', 'down', 'left', 'left', 'left', 'left', 'right']\n",
    "Result:\n",
    "\n",
    "['E.Honda', 'Chun Li', 'Ken', 'M.Bison', 'Sagat', 'Dhalsim', 'Sagat']\n",
    "OFF-TOPIC"
   ]
  },
  {
   "cell_type": "code",
   "execution_count": 50,
   "metadata": {
    "collapsed": true
   },
   "outputs": [],
   "source": [
    "def street_fighter_selection(fighters, initial_position, moves):\n",
    "    return_lst = []\n",
    "    movement = {'left': (0, -1), 'right': (0, 1), 'up': (-1, 0), 'down': (1, 0)}\n",
    "    position = initial_position\n",
    "    for move in moves:\n",
    "        position = tuple(sum(j for j in i) for i in zip(position, movement[move]))\n",
    "        position = (0 if position[0]<=0 else 1, position[1]%len(fighters[0]))\n",
    "        return_lst.append(fighters[position[0]%len(fighters)][position[1]%len(fighters[0])])\n",
    "    return return_lst"
   ]
  },
  {
   "cell_type": "code",
   "execution_count": 51,
   "metadata": {},
   "outputs": [
    {
     "data": {
      "text/plain": [
       "['Ryu', 'Vega', 'Ryu', 'Vega', 'Balrog']"
      ]
     },
     "execution_count": 51,
     "metadata": {},
     "output_type": "execute_result"
    }
   ],
   "source": [
    "fighters = [ [\"Ryu\", \"E.Honda\", \"Blanka\", \"Guile\", \"Balrog\", \"Vega\"], [\"Ken\", \"Chun Li\", \"Zangief\", \"Dhalsim\", \"Sagat\", \"M.Bison\"] ]\n",
    "street_fighter_selection(fighters, (0,0), ['up', 'left', 'right', 'left', 'left'])"
   ]
  },
  {
   "cell_type": "markdown",
   "metadata": {},
   "source": [
    "You are the \"computer expert\" of a local Athletic Association (C.A.A.). Many teams of runners come to compete. Each time you get a string of all race results of every team who has run. For example here is a string showing the individual results of a team of 5:\n",
    "\n",
    "\"01|15|59, 1|47|6, 01|17|20, 1|32|34, 2|3|17\"\n",
    "\n",
    "Each part of the string is of the form: h|m|s where h, m, s are positive or null integer (represented as strings) with one or two digits. There are no traps in this format.\n",
    "\n",
    "To compare the results of the teams you are asked for giving three statistics; range, average and median.\n",
    "\n",
    "Range : difference between the lowest and highest values. In {4, 6, 9, 3, 7} the lowest value is 3, and the highest is 9, so the range is 9 − 3 = 6.\n",
    "\n",
    "Mean or Average : To calculate mean, add together all of the numbers in a set and then divide the sum by the total count of numbers.\n",
    "\n",
    "Median : In statistics, the median is the number separating the higher half of a data sample from the lower half. The median of a finite list of numbers can be found by arranging all the observations from lowest value to highest value and picking the middle one (e.g., the median of {3, 3, 5, 9, 11} is 5) when there is an odd number of observations. If there is an even number of observations, then there is no single middle value; the median is then defined to be the mean of the two middle values (the median of {3, 5, 6, 9} is (5 + 6) / 2 = 5.5).\n",
    "\n",
    "Your task is to return a string giving these 3 values. For the example given above, the string result will be\n",
    "\n",
    "\"Range: 00|47|18 Average: 01|35|15 Median: 01|32|34\"\n",
    "\n",
    "of the form:\n",
    "\n",
    "\"Range: hh|mm|ss Average: hh|mm|ss Median: hh|mm|ss\"\n",
    "\n",
    "where hh, mm, ss are integers (represented by strings) with each 2 digits.\n",
    "\n",
    "Remarks:\n",
    "\n",
    "if a result in seconds is ab.xy... it will be given truncated as ab.\n",
    "if the given string is \"\" you will return \"\""
   ]
  },
  {
   "cell_type": "code",
   "execution_count": 60,
   "metadata": {
    "collapsed": true
   },
   "outputs": [],
   "source": [
    "def stat(strg):\n",
    "\n",
    "    def get_time(s):\n",
    "        '''Returns the time, in seconds, represented by s.'''\n",
    "        hh, mm, ss = [int(v) for v in s.split('|')]\n",
    "        return hh * 3600 + mm * 60 + ss\n",
    "    \n",
    "    def format_time(time):\n",
    "        '''Returns the given time as a string in the form \"hh|mm|ss\".'''\n",
    "        hh = time // 3600\n",
    "        mm = time // 60 % 60\n",
    "        ss = time % 60\n",
    "        return '{hh:02d}|{mm:02d}|{ss:02d}'.format(**locals())\n",
    "    \n",
    "    def get_range(times):\n",
    "        return times[-1] - times[0]\n",
    "    \n",
    "    def get_average(times):\n",
    "        return sum(times) // len(times)\n",
    "    \n",
    "    def get_median(times):\n",
    "        middle = len(times) >> 1\n",
    "        return (times[middle] if len(times) & 1 else\n",
    "                (times[middle - 1] + times[middle]) // 2)\n",
    "    \n",
    "    if strg == '':\n",
    "        return strg\n",
    "    times = [get_time(s) for s in strg.split(', ')]\n",
    "    times.sort()\n",
    "    rng = format_time(get_range(times))\n",
    "    avg = format_time(get_average(times))\n",
    "    mdn = format_time(get_median(times))\n",
    "    return 'Range: {rng} Average: {avg} Median: {mdn}'.format(**locals())"
   ]
  },
  {
   "cell_type": "code",
   "execution_count": 61,
   "metadata": {},
   "outputs": [
    {
     "data": {
      "text/plain": [
       "'Range: 00|47|18 Average: 01|35|15 Median: 01|32|34'"
      ]
     },
     "execution_count": 61,
     "metadata": {},
     "output_type": "execute_result"
    }
   ],
   "source": [
    "stat(\"01|15|59, 1|47|6, 01|17|20, 1|32|34, 2|3|17\")"
   ]
  },
  {
   "cell_type": "code",
   "execution_count": 63,
   "metadata": {},
   "outputs": [],
   "source": [
    "#Basic\n",
    "\n",
    "#sum(2) # 2  -> 1+1 , 2\n",
    "#sum(3) # 3 -> 1+1+1, 1+2, 3\n",
    "#sum(4) # 5 -> 1+1+1+1, 1+1+2, 1+3, 2+2, 4\n",
    "#sum(5) # 7 -> 1+1+1+1+1, 1+1+1+2, 1+1+3, 1+2+2, 1+4, 5, 2+3\n",
    "\n",
    "#sum(10) # 42\n",
    "#Explosive\n",
    "\n",
    "#sum(50) # 204226\n",
    "#sum(80) # 15796476\n",
    "#sum(100) # 190569292"
   ]
  },
  {
   "cell_type": "code",
   "execution_count": 66,
   "metadata": {
    "collapsed": true
   },
   "outputs": [],
   "source": [
    "def exp_sum(n):\n",
    "    if n < 0:\n",
    "        return 0\n",
    "    dp = [1] + [0] * n\n",
    "    for i in range(1, n + 1):\n",
    "        for j in range(i, n + 1):\n",
    "            dp[j] += dp[j - i]\n",
    "    return dp[-1]"
   ]
  },
  {
   "cell_type": "code",
   "execution_count": 67,
   "metadata": {},
   "outputs": [
    {
     "data": {
      "text/plain": [
       "22"
      ]
     },
     "execution_count": 67,
     "metadata": {},
     "output_type": "execute_result"
    }
   ],
   "source": [
    "exp_sum(8)"
   ]
  },
  {
   "cell_type": "code",
   "execution_count": null,
   "metadata": {
    "collapsed": true
   },
   "outputs": [],
   "source": []
  }
 ],
 "metadata": {
  "kernelspec": {
   "display_name": "Python [default]",
   "language": "python",
   "name": "python3"
  },
  "language_info": {
   "codemirror_mode": {
    "name": "ipython",
    "version": 3
   },
   "file_extension": ".py",
   "mimetype": "text/x-python",
   "name": "python",
   "nbconvert_exporter": "python",
   "pygments_lexer": "ipython3",
   "version": "3.5.3"
  }
 },
 "nbformat": 4,
 "nbformat_minor": 2
}
