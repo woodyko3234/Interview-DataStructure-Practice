{
 "cells": [
  {
   "cell_type": "markdown",
   "metadata": {},
   "source": [
    "Source: https://www.interviewcake.com/question/python/stock-price\n",
    "\n",
    "Writing programming interview questions hasn't made me rich. Maybe trading Apple stocks will.\n",
    "Suppose we could access yesterday's stock prices as a list, where:\n",
    "\n",
    "The indices are the time in minutes past trade opening time, which was 9:30am local time.\n",
    "The values are the price in dollars of Apple stock at that time.\n",
    "So if the stock cost $500 at 10:30am, stock_prices_yesterday[60] = 500.\n",
    "\n",
    "Write an efficient function that takes stock_prices_yesterday and returns the best profit I could have made from 1 purchase and 1 sale of 1 Apple stock yesterday.\n",
    "\n",
    "For example:\n",
    "\n",
    "  stock_prices_yesterday = [10, 7, 5, 8, 11, 9]\n",
    "\n",
    "get_max_profit(stock_prices_yesterday)\n",
    "\n",
    "**returns 6 (buying for 5 and selling for 11)**\n",
    "\n",
    "No \"shorting\"—you must buy before you sell. You may not buy and sell in the same time step (at least 1 minute must pass)."
   ]
  },
  {
   "cell_type": "code",
   "execution_count": 1,
   "metadata": {
    "collapsed": true
   },
   "outputs": [],
   "source": [
    "stock_prices_yesterday = [10, 7, 5, 8, 11, 9]\n",
    "\n",
    "def get_max_profit(stock_prices):\n",
    "    '''No \"shorting\"—you must buy before you sell. \n",
    "    You may not buy and sell in the same time step (at least 1 minute must pass).'''\n",
    "    max_profit = 0\n",
    "    for i in range(len(stock_prices)-1):\n",
    "        for j in range(i+1, len(stock_prices)):\n",
    "            if stock_prices[j] - stock_prices[i] > max_profit:\n",
    "                max_profit = stock_prices[j] - stock_prices[i]\n",
    "    return max_profit"
   ]
  },
  {
   "cell_type": "code",
   "execution_count": 2,
   "metadata": {},
   "outputs": [
    {
     "data": {
      "text/plain": [
       "6"
      ]
     },
     "execution_count": 2,
     "metadata": {},
     "output_type": "execute_result"
    }
   ],
   "source": [
    "get_max_profit(stock_prices_yesterday)\n",
    "#O(n^2)"
   ]
  },
  {
   "cell_type": "code",
   "execution_count": 13,
   "metadata": {
    "collapsed": true
   },
   "outputs": [],
   "source": [
    "stock_prices_yesterday = [10, 7, 5, 8, 11, 9]\n",
    "\n",
    "def get_max_profit(stock_prices):\n",
    "    if len(stock_prices_yesterday) < 2:\n",
    "        raise IndexError('Getting a profit requires at least 2 prices')\n",
    "    \n",
    "    buy_value, sale_value = stock_prices[0], stock_prices[1]\n",
    "    max_profit = sale_value - buy_value\n",
    "    for i in range(1, len(stock_prices)):\n",
    "        if stock_prices[i] - buy_value > max_profit:\n",
    "            sale_value = stock_prices[i]\n",
    "            max_profit = sale_value - buy_value\n",
    "        elif buy_value > stock_prices[i]:\n",
    "            buy_value = stock_prices[i]\n",
    "    return max_profit"
   ]
  },
  {
   "cell_type": "code",
   "execution_count": 20,
   "metadata": {},
   "outputs": [
    {
     "data": {
      "text/plain": [
       "17"
      ]
     },
     "execution_count": 20,
     "metadata": {},
     "output_type": "execute_result"
    }
   ],
   "source": [
    "stock_prices_yesterday = [10, 8, 8, 9, 9, 6, 3]\n",
    "get_max_profit(stock_prices_yesterday)\n",
    "#O(n)"
   ]
  },
  {
   "cell_type": "code",
   "execution_count": 7,
   "metadata": {
    "collapsed": true
   },
   "outputs": [],
   "source": [
    "#Answer from the website\n",
    "def get_max_profit(stock_prices_yesterday):\n",
    "\n",
    "    # make sure we have at least 2 prices\n",
    "    if len(stock_prices_yesterday) < 2:\n",
    "        raise IndexError('Getting a profit requires at least 2 prices')\n",
    "\n",
    "    # we'll greedily update min_price and max_profit, so we initialize\n",
    "    # them to the first price and the first possible profit\n",
    "    min_price = stock_prices_yesterday[0]\n",
    "    max_profit = stock_prices_yesterday[1] - stock_prices_yesterday[0]\n",
    "\n",
    "    for index, current_price in enumerate(stock_prices_yesterday):\n",
    "\n",
    "        # skip the first (0th) time\n",
    "        # we can't sell at the first time, since we must buy first,\n",
    "        # and we can't buy and sell at the same time!\n",
    "        # if we took this out, we'd try to buy *and* sell at time 0.\n",
    "        # this would give a profit of 0, which is a problem if our\n",
    "        # max_profit is supposed to be *negative*--we'd return 0.\n",
    "        if index == 0:\n",
    "            continue\n",
    "\n",
    "        # see what our profit would be if we bought at the\n",
    "        # min price and sold at the current price\n",
    "        potential_profit = current_price - min_price\n",
    "\n",
    "        # update max_profit if we can do better\n",
    "        max_profit = max(max_profit, potential_profit)\n",
    "\n",
    "        # update min_price so it's always\n",
    "        # the lowest price we've seen so far\n",
    "        min_price  = min(min_price, current_price)\n",
    "\n",
    "    return max_profit"
   ]
  },
  {
   "cell_type": "code",
   "execution_count": 8,
   "metadata": {},
   "outputs": [
    {
     "data": {
      "text/plain": [
       "1"
      ]
     },
     "execution_count": 8,
     "metadata": {},
     "output_type": "execute_result"
    }
   ],
   "source": [
    "stock_prices_yesterday = [10, 8, 8, 9, 9, 8, 7]\n",
    "get_max_profit(stock_prices_yesterday)"
   ]
  },
  {
   "cell_type": "markdown",
   "metadata": {},
   "source": [
    "You have a list of integers, and for each index you want to find the product of every integer except the integer at that index.\n",
    "Write a function get_products_of_all_ints_except_at_index() that takes a list of integers and returns a list of the products.\n",
    "\n",
    "For example, given:\n",
    "\n",
    "  [1, 7, 3, 4]\n",
    "\n",
    "your function would return:\n",
    "\n",
    "  [84, 12, 28, 21]\n",
    "\n",
    "by calculating:\n",
    "\n",
    "  [7 * 3 * 4,  1 * 3 * 4,  1 * 7 * 4,  1 * 7 * 3]\n",
    "\n",
    "Do not use division in your solution."
   ]
  },
  {
   "cell_type": "code",
   "execution_count": 25,
   "metadata": {
    "collapsed": true
   },
   "outputs": [],
   "source": [
    "def get_products_of_all_ints_except_at_index(target_list):\n",
    "    '''given:\n",
    "        [1, 7, 3, 4]\n",
    "        the function would return:\n",
    "        [84, 12, 28, 21]\n",
    "        by calculating:\n",
    "        [7*3*4, 1*3*4, 1*7*4, 1*7*3]'''\n",
    "    #Dividing way\n",
    "    return_list = target_list.copy()\n",
    "    max_value = 1\n",
    "    for i in return_list:\n",
    "        max_value = max_value*i\n",
    "    for i in range(len(return_list)):\n",
    "        return_list[i] = max_value / target_list[i]\n",
    "    return return_list"
   ]
  },
  {
   "cell_type": "code",
   "execution_count": 26,
   "metadata": {},
   "outputs": [
    {
     "data": {
      "text/plain": [
       "[84.0, 12.0, 28.0, 21.0]"
      ]
     },
     "execution_count": 26,
     "metadata": {},
     "output_type": "execute_result"
    }
   ],
   "source": [
    "get_products_of_all_ints_except_at_index([1, 7, 3, 4])\n",
    "#Dividing way\n",
    "#O(2n)"
   ]
  },
  {
   "cell_type": "code",
   "execution_count": 36,
   "metadata": {
    "collapsed": true
   },
   "outputs": [],
   "source": [
    "def get_products_of_all_ints_except_at_index(int_list):\n",
    "\n",
    "    if len(int_list) < 2:\n",
    "        raise IndexError('Getting the product of numbers at other indices requires at least 2 numbers')\n",
    "\n",
    "    # we make a list with the length of the input list to\n",
    "    # hold our products\n",
    "    products_of_all_ints_except_at_index = [None] * len(int_list)\n",
    "\n",
    "    # for each integer, we find the product of all the integers\n",
    "    # before it, storing the total product so far each time\n",
    "    product_so_far = 1\n",
    "    i = 0\n",
    "    while i < len(int_list):\n",
    "        products_of_all_ints_except_at_index[i] = product_so_far\n",
    "        product_so_far *= int_list[i]\n",
    "        i += 1\n",
    "    # for each integer, we find the product of all the integers\n",
    "    # after it. since each index in products already has the\n",
    "    # product of all the integers before it, now we're storing\n",
    "    # the total product of all other integers\n",
    "    product_so_far = 1\n",
    "    i = len(int_list) - 1\n",
    "    while i >= 0:\n",
    "        products_of_all_ints_except_at_index[i] *= product_so_far\n",
    "        product_so_far *= int_list[i]\n",
    "        i -= 1\n",
    "\n",
    "    return products_of_all_ints_except_at_index"
   ]
  },
  {
   "cell_type": "code",
   "execution_count": 37,
   "metadata": {},
   "outputs": [
    {
     "name": "stdout",
     "output_type": "stream",
     "text": [
      "[1, 1, 7, 21]\n"
     ]
    },
    {
     "data": {
      "text/plain": [
       "[84, 12, 28, 21]"
      ]
     },
     "execution_count": 37,
     "metadata": {},
     "output_type": "execute_result"
    }
   ],
   "source": [
    "get_products_of_all_ints_except_at_index([1, 7, 3, 4])"
   ]
  },
  {
   "cell_type": "code",
   "execution_count": null,
   "metadata": {
    "collapsed": true
   },
   "outputs": [],
   "source": []
  }
 ],
 "metadata": {
  "kernelspec": {
   "display_name": "Python [default]",
   "language": "python",
   "name": "python3"
  },
  "language_info": {
   "codemirror_mode": {
    "name": "ipython",
    "version": 3
   },
   "file_extension": ".py",
   "mimetype": "text/x-python",
   "name": "python",
   "nbconvert_exporter": "python",
   "pygments_lexer": "ipython3",
   "version": "3.5.3"
  }
 },
 "nbformat": 4,
 "nbformat_minor": 2
}
