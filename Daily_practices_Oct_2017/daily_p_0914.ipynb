{
 "cells": [
  {
   "cell_type": "markdown",
   "metadata": {},
   "source": [
    "Divisors of 42 are : 1, 2, 3, 6, 7, 14, 21, 42. These divisors squared are: 1, 4, 9, 36, 49, 196, 441, 1764. The sum of the squared divisors is 2500 which is 50 * 50, a square!\n",
    "\n",
    "Given two integers m, n (1 <= m <= n) we want to find all integers between m and n whose sum of squared divisors is itself a square. 42 is such a number.\n",
    "\n",
    "The result will be an array of arrays(in C an array of Pair), each subarray having two elements, first the number whose squared divisors is a square and then the sum of the squared divisors.\n",
    "\n",
    "#Examples:\n",
    "\n",
    "list_squared(1, 250) --> [[1, 1], [42, 2500], [246, 84100]]\n",
    "list_squared(42, 250) --> [[42, 2500], [246, 84100]]\n",
    "The form of the examples may change according to the language, see Example Tests: for more details."
   ]
  },
  {
   "cell_type": "code",
   "execution_count": 1,
   "metadata": {
    "collapsed": true
   },
   "outputs": [],
   "source": [
    "CACHE = {}\n",
    "\n",
    "def squared_cache(number):\n",
    "    if number not in CACHE:\n",
    "        divisors = [x for x in range(1, number + 1) if number % x == 0]\n",
    "        CACHE[number] = sum([x * x for x in divisors])\n",
    "        return CACHE[number] \n",
    "    \n",
    "    return CACHE[number]\n",
    "\n",
    "def list_squared(m, n):\n",
    "    ret = []\n",
    "\n",
    "    for number in range(m, n + 1):\n",
    "        divisors_sum = squared_cache(number)\n",
    "        if (divisors_sum ** 0.5).is_integer():\n",
    "            ret.append([number, divisors_sum])\n",
    "\n",
    "    return ret"
   ]
  },
  {
   "cell_type": "markdown",
   "metadata": {},
   "source": [
    "The input is a string str of digits. Cut the string into chunks (a chunk here is a substring of the initial string) of size sz (ignore the last chunk if its size is less than sz).\n",
    "\n",
    "If a chunk represents an integer such as the sum of the cubes of its digits is divisible by 2, reverse that chunk; otherwise rotate it to the left by one position. Put together these modified chunks and return the result as a string.\n",
    "\n",
    "If\n",
    "\n",
    "sz is <= 0 or if str is empty return \"\"\n",
    "sz is greater (>) than the length of str it is impossible to take a chunk of size sz hence return \"\".\n",
    "\n",
    "Examples:\n",
    "\n",
    "revrot(\"123456987654\", 6) --> \"234561876549\"\n",
    "\n",
    "revrot(\"123456987653\", 6) --> \"234561356789\"\n",
    "\n",
    "revrot(\"66443875\", 4) --> \"44668753\"\n",
    "\n",
    "revrot(\"66443875\", 8) --> \"64438756\"\n",
    "\n",
    "revrot(\"664438769\", 8) --> \"67834466\"\n",
    "\n",
    "revrot(\"123456779\", 8) --> \"23456771\"\n",
    "\n",
    "revrot(\"\", 8) --> \"\"\n",
    "\n",
    "revrot(\"123456779\", 0) --> \"\" \n",
    "\n",
    "revrot(\"563000655734469485\", 4) --> \"0365065073456944\""
   ]
  },
  {
   "cell_type": "code",
   "execution_count": 75,
   "metadata": {},
   "outputs": [],
   "source": [
    "def revrot(strng, sz):\n",
    "    if len(strng) < sz or sz <1 : return \"\"\n",
    "    #divide string into sections with size\n",
    "    sections = len(strng)//sz\n",
    "    division = []\n",
    "    for i in strng[0:sections*sz]:\n",
    "        division.append(int(i))\n",
    "    for j in range(sections):\n",
    "        cache = division[sz*j:sz*(1+j)]\n",
    "        if sum(division[sz*j:sz*(1+j)]) % 2 == 0:\n",
    "            for k in range(sz):\n",
    "                division[sz*j+k] = cache[-(k+1)]\n",
    "        else:\n",
    "            for k in range(sz):\n",
    "                if k+1 == sz:\n",
    "                    division[sz*j+k] = cache[0]\n",
    "                else:\n",
    "                    division[sz*j+k] = cache[k+1]\n",
    "    return \"\".join('%d' % i for i in division)"
   ]
  },
  {
   "cell_type": "code",
   "execution_count": 76,
   "metadata": {},
   "outputs": [
    {
     "data": {
      "text/plain": [
       "'6443629678254679356848329'"
      ]
     },
     "execution_count": 76,
     "metadata": {},
     "output_type": "execute_result"
    }
   ],
   "source": [
    "revrot(\"66443876927645289356923845\", 5)"
   ]
  },
  {
   "cell_type": "code",
   "execution_count": 77,
   "metadata": {
    "collapsed": true
   },
   "outputs": [],
   "source": [
    "def revrot(s, n, res=\"\"):\n",
    "    if not s or n < 1 or n > len(s):\n",
    "        return \"\"\n",
    "    \n",
    "    while len(s) >= n:\n",
    "        group = s[:n]\n",
    "        if sum([int(d) for d in group]) % 2 == 0:\n",
    "            res += group[::-1]\n",
    "        else:\n",
    "            res += group[1:] + group[0]\n",
    "        s = s[n:]\n",
    "    \n",
    "    return res"
   ]
  },
  {
   "cell_type": "code",
   "execution_count": null,
   "metadata": {
    "collapsed": true
   },
   "outputs": [],
   "source": []
  }
 ],
 "metadata": {
  "kernelspec": {
   "display_name": "Python [default]",
   "language": "python",
   "name": "python3"
  },
  "language_info": {
   "codemirror_mode": {
    "name": "ipython",
    "version": 3
   },
   "file_extension": ".py",
   "mimetype": "text/x-python",
   "name": "python",
   "nbconvert_exporter": "python",
   "pygments_lexer": "ipython3",
   "version": "3.5.3"
  }
 },
 "nbformat": 4,
 "nbformat_minor": 2
}
